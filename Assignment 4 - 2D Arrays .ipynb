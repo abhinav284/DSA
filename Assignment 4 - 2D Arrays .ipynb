{
 "cells": [
  {
   "cell_type": "markdown",
   "id": "a7e09f64",
   "metadata": {},
   "source": [
    "Question 1\n",
    "Given three integer arrays arr1, arr2 and arr3 sorted in strictly increasing order, return a sorted array of only the integers that appeared in **all** three arrays.\n",
    "\n",
    "Example 1:\n",
    "\n",
    "Input: arr1 = [1,2,3,4,5], arr2 = [1,2,5,7,9], arr3 = [1,3,4,5,8]\n",
    "\n",
    "Output: [1,5]\n",
    "\n",
    "Explanation:Only 1 and 5 appeared in the three arrays.\n",
    "\n",
    "\n",
    "    "
   ]
  },
  {
   "cell_type": "code",
   "execution_count": 2,
   "id": "7d4f7c57",
   "metadata": {},
   "outputs": [
    {
     "name": "stdout",
     "output_type": "stream",
     "text": [
      "Elements of arr1: 1 2 3 4 5\n",
      "elements of arr2 : 1 2 5 7 9\n",
      "elements of arr3: 1 3 4 5 8\n",
      "Output: [1, 5]\n"
     ]
    }
   ],
   "source": [
    "def find_common_elements(arr1, arr2, arr3):\n",
    "    ptr1 = ptr2 = ptr3 = 0\n",
    "    result = []\n",
    "\n",
    "    while ptr1 < len(arr1) and ptr2 < len(arr2) and ptr3 < len(arr3):\n",
    "        if arr1[ptr1] == arr2[ptr2] == arr3[ptr3]:\n",
    "            result.append(arr1[ptr1])\n",
    "            ptr1 += 1\n",
    "            ptr2 += 1\n",
    "            ptr3 += 1\n",
    "        elif arr1[ptr1] < arr2[ptr2]:\n",
    "            ptr1 += 1\n",
    "        elif arr2[ptr2] < arr3[ptr3]:\n",
    "            ptr2 += 1\n",
    "        else:\n",
    "            ptr3 += 1\n",
    "\n",
    "    return result\n",
    "\n",
    "\n",
    "arr1 = input(\"Elements of arr1: \").split()\n",
    "arr1 = [int(num) for num in arr1]\n",
    "\n",
    "\n",
    "arr2 = input(\"elements of arr2 : \").split()\n",
    "arr2 = [int(num) for num in arr2]\n",
    "\n",
    "arr3 = input(\"elements of arr3: \").split()\n",
    "arr3 = [int(num) for num in arr3]\n",
    "result = find_common_elements(arr1, arr2, arr3)\n",
    "print(\"Output:\", result)\n"
   ]
  },
  {
   "cell_type": "code",
   "execution_count": null,
   "id": "cb6a25cf",
   "metadata": {},
   "outputs": [],
   "source": []
  },
  {
   "cell_type": "code",
   "execution_count": null,
   "id": "8a68f195",
   "metadata": {},
   "outputs": [],
   "source": []
  },
  {
   "cell_type": "markdown",
   "id": "4586336d",
   "metadata": {},
   "source": [
    "Question 2\n",
    "\n",
    "Given two 0-indexed integer arrays nums1 and nums2, return *a list* answer *of size* 2 *where:*\n",
    "\n",
    "- answer[0] is a list of all distinct integers in nums1 which are not present in nums2.\n",
    "- answer[1] is a list of all distinct integers in nums2 which are not present in nums1.\n",
    "\n",
    "Note that the integers in the lists may be returned in any order.\n",
    "Example 1:\n",
    "\n",
    "Input: nums1 = [1,2,3], nums2 = [2,4,6]\n",
    "\n",
    "Output: [[1,3],[4,6]]\n",
    "\n",
    "Explanation:\n",
    "\n",
    "For nums1, nums1[1] = 2 is present at index 0 of nums2, whereas nums1[0] = 1 and nums1[2] = 3 are not present in nums2. Therefore, answer[0] = [1,3].\n",
    "\n",
    "For nums2, nums2[0] = 2 is present at index 1 of nums1, whereas nums2[1] = 4 and nums2[2] = 6 are not present in nums2. Therefore, answer[1] = [4,6]."
   ]
  },
  {
   "cell_type": "code",
   "execution_count": 3,
   "id": "8ca1cfbe",
   "metadata": {},
   "outputs": [
    {
     "name": "stdout",
     "output_type": "stream",
     "text": [
      "elements nums1: 1 2 3\n",
      "elements of nums2: 2 4 6\n",
      "Output: [1, 3]\n",
      "Output: [4, 6]\n"
     ]
    }
   ],
   "source": [
    "def findDisjointElements(nums1, nums2):\n",
    "    set1 = set(nums1)\n",
    "    set2 = set(nums2)\n",
    "\n",
    "    answer = [[], []]\n",
    "\n",
    "    for num in set1:\n",
    "        if num not in set2:\n",
    "            answer[0].append(num)\n",
    "\n",
    "    for num in set2:\n",
    "        if num not in set1:\n",
    "            answer[1].append(num)\n",
    "\n",
    "    return answer\n",
    "\n",
    "\n",
    "nums1 = input(\"elements nums1: \").split()\n",
    "nums1 = [int(num) for num in nums1]\n",
    "\n",
    "nums2 = input(\"elements of nums2: \").split()\n",
    "nums2 = [int(num) for num in nums2]\n",
    "\n",
    "result = findDisjointElements(nums1, nums2)\n",
    "print(\"Output:\", result[0])\n",
    "print(\"Output:\", result[1])\n"
   ]
  },
  {
   "cell_type": "code",
   "execution_count": null,
   "id": "a205ab51",
   "metadata": {},
   "outputs": [],
   "source": []
  },
  {
   "cell_type": "markdown",
   "id": "f29ab311",
   "metadata": {},
   "source": [
    "Question 3\n",
    "Given a 2D integer array matrix, return the transpose of matrix.\n",
    "\n",
    "The transpose of a matrix is the matrix flipped over its main diagonal, switching the matrix's row and column indices.\n",
    "\n",
    "Example 1:\n",
    "\n",
    "Input: matrix = [[1,2,3],[4,5,6],[7,8,9]]\n",
    "\n",
    "Output: [[1,4,7],[2,5,8],[3,6,9]]\n"
   ]
  },
  {
   "cell_type": "code",
   "execution_count": 4,
   "id": "dd161965",
   "metadata": {},
   "outputs": [
    {
     "name": "stdout",
     "output_type": "stream",
     "text": [
      "number of rows: 3\n",
      "number of columns: 3\n",
      "Enter the elements of row 1 separated by spaces: 1 2 3\n",
      "Enter the elements of row 2 separated by spaces: 4 5 6\n",
      "Enter the elements of row 3 separated by spaces: 7 8 9\n",
      "result:\n",
      "[1, 4, 7]\n",
      "[2, 5, 8]\n",
      "[3, 6, 9]\n"
     ]
    }
   ],
   "source": [
    "def transposeMatrix(matrix):\n",
    "    rows = len(matrix)\n",
    "    cols = len(matrix[0])\n",
    "\n",
    "    transposed = [[0] * rows for _ in range(cols)]\n",
    "\n",
    "    for i in range(rows):\n",
    "        for j in range(cols):\n",
    "            transposed[j][i] = matrix[i][j]\n",
    "\n",
    "    return transposed\n",
    "\n",
    "matrix = []\n",
    "rows = int(input(\"number of rows: \"))\n",
    "cols = int(input(\"number of columns: \"))\n",
    "\n",
    "for i in range(rows):\n",
    "    row = input(f\"Enter the elements of row {i+1} separated by spaces: \").split()\n",
    "    row = [int(num) for num in row]\n",
    "    matrix.append(row)\n",
    "\n",
    "result = transposeMatrix(matrix)\n",
    "print(\"result:\")\n",
    "for row in result:\n",
    "    print(row)\n"
   ]
  },
  {
   "cell_type": "code",
   "execution_count": null,
   "id": "950a0287",
   "metadata": {},
   "outputs": [],
   "source": []
  },
  {
   "cell_type": "markdown",
   "id": "76c8f105",
   "metadata": {},
   "source": [
    "Question 4\n",
    "Given an integer array nums of 2n integers, group these integers into n pairs (a1, b1), (a2, b2), ..., (an, bn) such that the sum of min(ai, bi) for all i is **maximized**. Return *the maximized sum*.\n",
    "\n",
    "Example 1:\n",
    "\n",
    "Input: nums = [1,4,3,2]\n",
    "\n",
    "Output: 4\n",
    "\n",
    "Explanation: All possible pairings (ignoring the ordering of elements) are:\n",
    "\n",
    "1. (1, 4), (2, 3) -> min(1, 4) + min(2, 3) = 1 + 2 = 3\n",
    "\n",
    "2. (1, 3), (2, 4) -> min(1, 3) + min(2, 4) = 1 + 2 = 3\n",
    "\n",
    "3. (1, 2), (3, 4) -> min(1, 2) + min(3, 4) = 1 + 3 = 4\n",
    "\n",
    "So the maximum possible sum is 4."
   ]
  },
  {
   "cell_type": "code",
   "execution_count": 5,
   "id": "057fc953",
   "metadata": {},
   "outputs": [
    {
     "name": "stdout",
     "output_type": "stream",
     "text": [
      "elements of the array: 1 4 3 2\n",
      "Output: 4\n"
     ]
    }
   ],
   "source": [
    "def array_pair_sum(nums):\n",
    "    nums.sort()  # Sort the array in ascending order\n",
    "    n = len(nums) // 2\n",
    "    max_sum = 0\n",
    "\n",
    "    \n",
    "    for i in range(n):\n",
    "        max_sum += nums[2*i]\n",
    "\n",
    "    return max_sum\n",
    "\n",
    "\n",
    "nums = input(\"elements of the array: \").split()\n",
    "nums = [int(num) for num in nums]\n",
    "\n",
    "result = array_pair_sum(nums)\n",
    "print(\"Output:\", result)\n"
   ]
  },
  {
   "cell_type": "code",
   "execution_count": null,
   "id": "93606ecb",
   "metadata": {},
   "outputs": [],
   "source": []
  },
  {
   "cell_type": "markdown",
   "id": "9a63aefd",
   "metadata": {},
   "source": [
    "Question 5\n",
    "You have n coins and you want to build a staircase with these coins. The staircase consists of k rows where the ith row has exactly i coins. The last row of the staircase **may be** incomplete.\n",
    "\n",
    "Given the integer n, return the number of complete rows of the staircase you will build.\n",
    "\n",
    "Example 1:\n",
    "\n",
    "[]()\n",
    "\n",
    "![v2.jpg](https://s3-us-west-2.amazonaws.com/secure.notion-static.com/4bd91cfa-d2b1-47b3-8197-a72e8dcfff4b/v2.jpg)\n",
    "\n",
    "Input:n = 5\n",
    "\n",
    "Output: 2\n",
    "\n",
    "Explanation: Because the 3rd row is incomplete, we return 2.\n",
    "\n",
    "</aside>"
   ]
  },
  {
   "cell_type": "code",
   "execution_count": 1,
   "id": "94e5c2c3",
   "metadata": {},
   "outputs": [
    {
     "name": "stdout",
     "output_type": "stream",
     "text": [
      "Enter the number of coins: 5\n",
      "Output: 2\n"
     ]
    }
   ],
   "source": [
    "def arrange_coins(n):\n",
    "    left = 0\n",
    "    right = n\n",
    "\n",
    "    while left <= right:\n",
    "        mid = left + (right - left) // 2\n",
    "        coins_needed = mid * (mid + 1) // 2\n",
    "\n",
    "        if coins_needed == n:\n",
    "            return mid\n",
    "        elif coins_needed < n:\n",
    "            left = mid + 1\n",
    "        else:\n",
    "            right = mid - 1\n",
    "\n",
    "    return right\n",
    "\n",
    "n = int(input(\"Enter the number of coins: \"))\n",
    "\n",
    "result = arrange_coins(n)\n",
    "print(\"Output:\", result)\n"
   ]
  },
  {
   "cell_type": "code",
   "execution_count": null,
   "id": "a1fc3759",
   "metadata": {},
   "outputs": [],
   "source": []
  },
  {
   "cell_type": "markdown",
   "id": "6fadd97c",
   "metadata": {},
   "source": [
    "Question 6\n",
    "Given an integer array nums sorted in non-decreasing order, return an array of the squares of each number sorted in non-decreasing order*.\n",
    "\n",
    "Example 1:\n",
    "\n",
    "Input: nums = [-4,-1,0,3,10]\n",
    "\n",
    "Output: [0,1,9,16,100]\n",
    "\n",
    "Explanation: After squaring, the array becomes [16,1,0,9,100].\n",
    "After sorting, it becomes [0,1,9,16,100]\n",
    "\n",
    "\n"
   ]
  },
  {
   "cell_type": "code",
   "execution_count": 2,
   "id": "cc934a04",
   "metadata": {},
   "outputs": [
    {
     "name": "stdout",
     "output_type": "stream",
     "text": [
      "Enter the elements: -4 -1 0 3 10\n",
      "Sorted squares of each number:\n",
      "[0, 1, 9, 16, 100]\n"
     ]
    }
   ],
   "source": [
    "def sorted_squares(nums):\n",
    "    squared = [num ** 2 for num in nums]  \n",
    "    squared.sort()  \n",
    "    return squared\n",
    "\n",
    "\n",
    "nums = input(\"Enter the elements: \").split()\n",
    "nums = [int(num) for num in nums]\n",
    "\n",
    "result = sorted_squares(nums)\n",
    "print(\"Sorted squares of each number:\")\n",
    "print(result)\n"
   ]
  },
  {
   "cell_type": "code",
   "execution_count": null,
   "id": "b1766f88",
   "metadata": {},
   "outputs": [],
   "source": []
  },
  {
   "cell_type": "markdown",
   "id": "579b1661",
   "metadata": {},
   "source": [
    "Question 7\n",
    "You are given an m x n matrix M initialized with all 0's and an array of operations ops, where ops[i] = [ai, bi] means M[x][y] should be incremented by one for all 0 <= x < ai and 0 <= y < bi.\n",
    "\n",
    "Count and return *the number of maximum integers in the matrix after performing all the operations*\n",
    "\n",
    "Example 1:\n",
    "\n",
    "Input: m = 3, n = 3, ops = [[2,2],[3,3]]\n",
    "\n",
    "Output:4\n",
    "\n",
    "Explanation: The maximum integer in M is 2, and there are four of it in M. So return 4."
   ]
  },
  {
   "cell_type": "code",
   "execution_count": 2,
   "id": "92b14f08",
   "metadata": {},
   "outputs": [
    {
     "name": "stdout",
     "output_type": "stream",
     "text": [
      "m: 3\n",
      "n: 3\n",
      "number of operations: 2\n",
      "Enter the values of ai and bi: 2 2\n",
      "Enter the values of ai and bi: 3 3\n",
      "Output: 4\n"
     ]
    }
   ],
   "source": [
    "def max_count(m, n, ops):\n",
    "    min_ai = m\n",
    "    min_bi = n\n",
    "\n",
    "    for op in ops:\n",
    "        min_ai = min(min_ai, op[0])\n",
    "        min_bi = min(min_bi, op[1])\n",
    "\n",
    "    return min_ai * min_bi\n",
    "\n",
    "\n",
    "m = int(input(\"m: \"))\n",
    "n = int(input(\"n: \"))\n",
    "\n",
    "ops = []\n",
    "num_ops = int(input(\"number of operations: \"))\n",
    "for _ in range(num_ops):\n",
    "    op = input(\"Enter the values of ai and bi: \").split()\n",
    "    op = [int(val) for val in op]\n",
    "    ops.append(op)\n",
    "\n",
    "result = max_count(m, n, ops)\n",
    "print(\"Output:\", result)\n"
   ]
  },
  {
   "cell_type": "code",
   "execution_count": null,
   "id": "2cc83f56",
   "metadata": {},
   "outputs": [],
   "source": []
  },
  {
   "cell_type": "markdown",
   "id": "2ec2ea78",
   "metadata": {},
   "source": [
    "Question 8\n",
    "\n",
    "Given the array nums consisting of 2n elements in the form [x1,x2,...,xn,y1,y2,...,yn].\n",
    "\n",
    "Return the array in the form [x1,y1,x2,y2,...,xn,yn].\n",
    "\n",
    "Example 1:\n",
    "\n",
    "Input: nums = [2,5,1,3,4,7], n = 3\n",
    "\n",
    "Output: [2,3,5,4,1,7]\n",
    "\n",
    "Explanation: Since x1=2, x2=5, x3=1, y1=3, y2=4, y3=7 then the answer is [2,3,5,4,1,7]."
   ]
  },
  {
   "cell_type": "code",
   "execution_count": 1,
   "id": "2de97118",
   "metadata": {},
   "outputs": [
    {
     "name": "stdout",
     "output_type": "stream",
     "text": [
      "Enter the element: 2 5 1 3 4 7\n",
      "Enter the value of n: 3\n",
      "Shuffled array:\n",
      "[2, 3, 5, 4, 1, 7]\n"
     ]
    }
   ],
   "source": [
    "def shuffle(nums, n):\n",
    "    result = []\n",
    "    for i in range(n):\n",
    "        result.append(nums[i])\n",
    "        result.append(nums[i+n])\n",
    "    return result\n",
    "\n",
    "\n",
    "nums = input(\"Enter the element: \").split()\n",
    "nums = [int(num) for num in nums]\n",
    "\n",
    "n = int(input(\"Enter the value of n: \"))\n",
    "\n",
    "result = shuffle(nums, n)\n",
    "print(\"Shuffled array:\")\n",
    "print(result)\n"
   ]
  },
  {
   "cell_type": "code",
   "execution_count": null,
   "id": "e0727a2f",
   "metadata": {},
   "outputs": [],
   "source": []
  }
 ],
 "metadata": {
  "kernelspec": {
   "display_name": "Python 3 (ipykernel)",
   "language": "python",
   "name": "python3"
  },
  "language_info": {
   "codemirror_mode": {
    "name": "ipython",
    "version": 3
   },
   "file_extension": ".py",
   "mimetype": "text/x-python",
   "name": "python",
   "nbconvert_exporter": "python",
   "pygments_lexer": "ipython3",
   "version": "3.9.7"
  }
 },
 "nbformat": 4,
 "nbformat_minor": 5
}
