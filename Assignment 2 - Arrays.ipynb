{
 "cells": [
  {
   "cell_type": "markdown",
   "id": "4fa04cc9",
   "metadata": {},
   "source": [
    "Question 1\n",
    "Given an integer array nums of 2n integers, group these integers into n pairs (a1, b1), (a2, b2),..., (an, bn) such that the sum of min(ai, bi) for all i is maximized. Return the maximized sum.\n",
    "\n",
    "Example 1:\n",
    "Input: nums = [1,4,3,2]\n",
    "Output: 4\n",
    "\n",
    "Explanation: All possible pairings (ignoring the ordering of elements) are:\n",
    "\n",
    "1. (1, 4), (2, 3) -> min(1, 4) + min(2, 3) = 1 + 2 = 3\n",
    "2. (1, 3), (2, 4) -> min(1, 3) + min(2, 4) = 1 + 2 = 3\n",
    "3. (1, 2), (3, 4) -> min(1, 2) + min(3, 4) = 1 + 3 = 4\n",
    "So the maximum possible sum is 4\n",
    "\n"
   ]
  },
  {
   "cell_type": "code",
   "execution_count": 5,
   "id": "085288c7",
   "metadata": {},
   "outputs": [
    {
     "name": "stdout",
     "output_type": "stream",
     "text": [
      "Array: 1 4 3 2\n",
      "Output:  4\n"
     ]
    }
   ],
   "source": [
    "def array_pair_sum(nums):\n",
    "    nums.sort()\n",
    "    max_sum = 0\n",
    "    for i in range(0, len(nums), 2):\n",
    "        max_sum += min(nums[i], nums[i+1])\n",
    "    return max_sum\n",
    "\n",
    "input_arr = input(\"Array: \")\n",
    "nums = list(map(int,input_arr.split()))\n",
    "result = array_pair_sum(nums)\n",
    "print(\"Output: \", result)\n"
   ]
  },
  {
   "cell_type": "code",
   "execution_count": null,
   "id": "59a533dc",
   "metadata": {},
   "outputs": [],
   "source": []
  },
  {
   "cell_type": "markdown",
   "id": "a0a610ac",
   "metadata": {},
   "source": [
    "Question 2\n",
    "Alice has n candies, where the ith candy is of type candyType[i]. Alice noticed that she started to gain weight, so she visited a doctor. \n",
    "\n",
    "The doctor advised Alice to only eat n / 2 of the candies she has (n is always even). Alice likes her candies very much, and she wants to eat the maximum number of different types of candies while still following the doctor's advice. \n",
    "\n",
    "Given the integer array candyType of length n, return the maximum number of different types of candies she can eat if she only eats n / 2 of them.\n",
    "\n",
    "Example 1:\n",
    "Input: candyType = [1,1,2,2,3,3]\n",
    "Output: 3\n",
    "\n",
    "Explanation: Alice can only eat 6 / 2 = 3 candies. Since there are only 3 types, she can eat one of each type.\n"
   ]
  },
  {
   "cell_type": "code",
   "execution_count": 6,
   "id": "dc2813d8",
   "metadata": {},
   "outputs": [
    {
     "name": "stdout",
     "output_type": "stream",
     "text": [
      "Array: 1 1 2 2 3 3\n",
      "Output:  3\n"
     ]
    }
   ],
   "source": [
    "def max_candies(candyType):\n",
    "    unique_candy_types = set(candyType)\n",
    "    max_candy_types = min(len(unique_candy_types),len(candyType) // 2)\n",
    "    return max_candy_types\n",
    "\n",
    "user_input = input(\"Array: \")\n",
    "candyType = list(map(int, user_input.split()))\n",
    "\n",
    "result = max_candies(candyType)\n",
    "print(\"Output: \", result)\n"
   ]
  },
  {
   "cell_type": "code",
   "execution_count": null,
   "id": "1a34fd1e",
   "metadata": {},
   "outputs": [],
   "source": []
  },
  {
   "cell_type": "markdown",
   "id": "46b00d8f",
   "metadata": {},
   "source": [
    "Question 3\n",
    "We define a harmonious array as an array where the difference between its maximum value\n",
    "and its minimum value is exactly 1.\n",
    "\n",
    "Given an integer array nums, return the length of its longest harmonious subsequence\n",
    "among all its possible subsequences.\n",
    "\n",
    "A subsequence of an array is a sequence that can be derived from the array by deleting some or no elements without changing the order of the remaining elements.\n",
    "Example 1:\n",
    "Input: nums = [1,3,2,2,5,2,3,7]\n",
    "Output: 5\n",
    "\n",
    "Explanation:The longest harmonious subsequence is [3,2,2,2,3].\n",
    "\n",
    "\n"
   ]
  },
  {
   "cell_type": "code",
   "execution_count": 7,
   "id": "64d96739",
   "metadata": {},
   "outputs": [
    {
     "name": "stdout",
     "output_type": "stream",
     "text": [
      "Array: 1 3 2 2 5 2 3 7\n",
      "Output: 5\n"
     ]
    }
   ],
   "source": [
    "def findLHS(nums):\n",
    "    num_counts = {}\n",
    "    for num in nums:\n",
    "        num_counts[num] = num_counts.get(num, 0) + 1\n",
    "\n",
    "    max_length = 0\n",
    "    for num in num_counts:\n",
    "        if num + 1 in num_counts:\n",
    "            length = num_counts[num] + num_counts[num + 1]\n",
    "            max_length = max(max_length, length)\n",
    "\n",
    "    return max_length\n",
    "\n",
    "user_input = input(\"Array: \")\n",
    "nums = list(map(int, user_input.split()))\n",
    "\n",
    "result = findLHS(nums)\n",
    "print(\"Output:\", result)"
   ]
  },
  {
   "cell_type": "code",
   "execution_count": null,
   "id": "afe8abee",
   "metadata": {},
   "outputs": [],
   "source": []
  },
  {
   "cell_type": "markdown",
   "id": "feeba362",
   "metadata": {},
   "source": [
    "Question 4\n",
    "You have a long flowerbed in which some of the plots are planted, and some are not.\n",
    "However, flowers cannot be planted in adjacent plots.\n",
    "Given an integer array flowerbed containing 0's and 1's, where 0 means empty and 1 means not empty, and an integer n, return true if n new flowers can be planted in the flowerbed without violating the no-adjacent-flowers rule and false otherwise.\n",
    "\n",
    "Example 1:\n",
    "Input: flowerbed = [1,0,0,0,1], n = 1\n",
    "Output: true\n",
    "\n"
   ]
  },
  {
   "cell_type": "code",
   "execution_count": 8,
   "id": "6420ef6d",
   "metadata": {},
   "outputs": [
    {
     "name": "stdout",
     "output_type": "stream",
     "text": [
      "Enter the array): 1 0 0 0 1\n",
      "Enter the number of flowers to plant: 1\n",
      "Output:  True\n"
     ]
    }
   ],
   "source": [
    "def can_place_flowers(flowerbed, n):\n",
    "    count = 0\n",
    "    i = 0\n",
    "    while i < len(flowerbed):\n",
    "        if flowerbed[i] == 0 and (i == 0 or flowerbed[i-1] == 0) and (i == len(flowerbed)-1 or flowerbed[i+1] == 0):\n",
    "            flowerbed[i] = 1\n",
    "            count += 1\n",
    "        i += 1\n",
    "\n",
    "    return count >= n\n",
    "\n",
    "user_input = input(\"Enter the array): \")\n",
    "flowerbed = list(map(int, user_input.split()))\n",
    "\n",
    "n = int(input(\"Enter the number of flowers to plant: \"))\n",
    "\n",
    "result = can_place_flowers(flowerbed, n)\n",
    "print(\"Output: \", result)\n"
   ]
  },
  {
   "cell_type": "code",
   "execution_count": null,
   "id": "fd5ceda4",
   "metadata": {},
   "outputs": [],
   "source": []
  },
  {
   "cell_type": "markdown",
   "id": "7037fb8f",
   "metadata": {},
   "source": [
    "Question 5\n",
    "Given an integer array nums, find three numbers whose product is maximum and return the maximum product.\n",
    "\n",
    "Example 1:\n",
    "Input: nums = [1,2,3]\n",
    "Output: 6"
   ]
  },
  {
   "cell_type": "code",
   "execution_count": null,
   "id": "0af3303b",
   "metadata": {},
   "outputs": [],
   "source": []
  },
  {
   "cell_type": "code",
   "execution_count": null,
   "id": "f59257e1",
   "metadata": {},
   "outputs": [],
   "source": []
  },
  {
   "cell_type": "markdown",
   "id": "885eee8c",
   "metadata": {},
   "source": [
    "Question 6\n",
    "Given an array of integers nums which is sorted in ascending order, and an integer target,\n",
    "write a function to search target in nums. If target exists, then return its index. Otherwise,\n",
    "return -1.\n",
    "\n",
    "You must write an algorithm with O(log n) runtime complexity.\n",
    "\n",
    "Input: nums = [-1,0,3,5,9,12], target = 9\n",
    "Output: 4\n",
    "\n",
    "Explanation: 9 exists in nums and its index is 4"
   ]
  },
  {
   "cell_type": "code",
   "execution_count": 9,
   "id": "9d8a5cf1",
   "metadata": {},
   "outputs": [
    {
     "name": "stdout",
     "output_type": "stream",
     "text": [
      "Enter array: -1 0 3 5 9 12\n",
      "target value: 9\n",
      "Output: 4\n"
     ]
    }
   ],
   "source": [
    "def search(nums, target):\n",
    "    left = 0\n",
    "    right = len(nums) - 1\n",
    "\n",
    "    while left <= right:\n",
    "        mid = left + (right - left) // 2\n",
    "\n",
    "        if nums[mid] == target:\n",
    "            return mid\n",
    "        elif nums[mid] > target:\n",
    "            right = mid - 1\n",
    "        else:\n",
    "            left = mid + 1\n",
    "    return -1\n",
    "\n",
    "user_input = input(\"Enter array: \")\n",
    "nums = list(map(int, user_input.split()))\n",
    "\n",
    "target = int(input(\"target value: \"))\n",
    "\n",
    "result = search(nums, target)\n",
    "print(\"Output:\", result)\n"
   ]
  },
  {
   "cell_type": "code",
   "execution_count": null,
   "id": "76e1f4bd",
   "metadata": {},
   "outputs": [],
   "source": []
  },
  {
   "cell_type": "markdown",
   "id": "bbc4318f",
   "metadata": {},
   "source": [
    "Question 7\n",
    "An array is monotonic if it is either monotone increasing or monotone decreasing.\n",
    "\n",
    "An array nums is monotone increasing if for all i <= j, nums[i] <= nums[j]. An array nums is\n",
    "monotone decreasing if for all i <= j, nums[i] >= nums[j].\n",
    "\n",
    "Given an integer array nums, return true if the given array is monotonic, or false otherwise.\n",
    "\n",
    "Example 1:\n",
    "Input: nums = [1,2,2,3]\n",
    "Output: true"
   ]
  },
  {
   "cell_type": "code",
   "execution_count": 10,
   "id": "08d166fb",
   "metadata": {},
   "outputs": [
    {
     "name": "stdout",
     "output_type": "stream",
     "text": [
      "Enter arr: 1 2 2 3\n",
      "Output True\n"
     ]
    }
   ],
   "source": [
    "def is_monotonic(nums):\n",
    "    isIncreasing = True\n",
    "    isDecreasing = True\n",
    "\n",
    "    for i in range(1, len(nums)):\n",
    "        if nums[i] > nums[i - 1]:\n",
    "            isDecreasing = False\n",
    "        if nums[i] < nums[i - 1]:\n",
    "            isIncreasing = False\n",
    "\n",
    "    return isIncreasing or isDecreasing\n",
    "\n",
    "user_input = input(\"Enter arr: \")\n",
    "nums = list(map(int, user_input.split()))\n",
    "\n",
    "result = is_monotonic(nums)\n",
    "print(\"Output\", result)\n"
   ]
  },
  {
   "cell_type": "code",
   "execution_count": null,
   "id": "1b7af856",
   "metadata": {},
   "outputs": [],
   "source": []
  },
  {
   "cell_type": "markdown",
   "id": "8068f1b3",
   "metadata": {},
   "source": [
    "Question 8\n",
    "You are given an integer array nums and an integer k.\n",
    "\n",
    "In one operation, you can choose any index i where 0 <= i < nums.length and change nums[i] to nums[i] + x where x is an integer from the range [-k, k]. You can apply this operation at most once for each index i.\n",
    "\n",
    "The score of nums is the difference between the maximum and minimum elements in nums.\n",
    "\n",
    "Return the minimum score of nums after applying the mentioned operation at most once for each index in it.\n",
    "\n",
    "Example 1:\n",
    "Input: nums = [1], k = 0\n",
    "Output: 0\n",
    "\n",
    "Explanation: The score is max(nums) - min(nums) = 1 - 1 = 0."
   ]
  },
  {
   "cell_type": "code",
   "execution_count": 14,
   "id": "3b821580",
   "metadata": {},
   "outputs": [
    {
     "name": "stdout",
     "output_type": "stream",
     "text": [
      "Enter arr: 1 5\n",
      "Enter k: 2\n",
      "Output:  0\n"
     ]
    }
   ],
   "source": [
    "def minimum_score(nums, k):\n",
    "    minimum = min(nums)\n",
    "    maximum = max(nums)\n",
    "\n",
    "    if maximum - minimum <= 2 * k:\n",
    "        return 0\n",
    "\n",
    "    candidate_min = minimum + k\n",
    "    candidate_max = maximum - k\n",
    "\n",
    "    min_score = float('inf')\n",
    "\n",
    "    for c_min in [candidate_min, minimum]:\n",
    "        for c_max in [candidate_max, maximum]:\n",
    "            score = c_max - c_min\n",
    "            min_score = min(min_score, score)\n",
    "\n",
    "    return min_score\n",
    "\n",
    "user_input = input(\"Enter arr: \")\n",
    "nums = list(map(int, user_input.split()))\n",
    "\n",
    "k = int(input(\"Enter k: \"))\n",
    "\n",
    "result = minimum_score(nums, k)\n",
    "print(\"Output: \", result)\n"
   ]
  },
  {
   "cell_type": "code",
   "execution_count": null,
   "id": "cb59eccc",
   "metadata": {},
   "outputs": [],
   "source": [
    "\n"
   ]
  }
 ],
 "metadata": {
  "kernelspec": {
   "display_name": "Python 3 (ipykernel)",
   "language": "python",
   "name": "python3"
  },
  "language_info": {
   "codemirror_mode": {
    "name": "ipython",
    "version": 3
   },
   "file_extension": ".py",
   "mimetype": "text/x-python",
   "name": "python",
   "nbconvert_exporter": "python",
   "pygments_lexer": "ipython3",
   "version": "3.9.7"
  }
 },
 "nbformat": 4,
 "nbformat_minor": 5
}
