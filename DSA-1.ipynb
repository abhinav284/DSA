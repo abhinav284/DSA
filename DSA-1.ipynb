{
 "cells": [
  {
   "cell_type": "markdown",
   "id": "c0de6fc1",
   "metadata": {},
   "source": [
    "Given an integer array nums, move all 0's to the end of it while maintaining the relative order of the non-zero elements.\n",
    "\n",
    "Note that you must do this in-place without making a copy of the array.\n",
    "\n",
    "Example 1:\n",
    "Input: nums = [0,1,0,3,12]\n",
    "Output: [1,3,12,0,0]\n",
    "\n",
    "Example 2:\n",
    "Input: nums = [0]\n",
    "Output: [0]\n",
    "\n",
    "Constraints:\n",
    "a. 1 <= nums.length <= 10^4\n",
    "b. -2^31 <= nums[i] <= 2^31 - 1"
   ]
  },
  {
   "cell_type": "code",
   "execution_count": 1,
   "id": "cd8eb3f9",
   "metadata": {},
   "outputs": [
    {
     "name": "stdout",
     "output_type": "stream",
     "text": [
      "Enter the arr: 0 1 0 3 12\n",
      "Output:  [1, 3, 12, 0, 0]\n"
     ]
    }
   ],
   "source": [
    "def non_zero(nums):\n",
    "    next_non_zero = 0\n",
    "    for i in range(len(nums)):\n",
    "        if nums[i] != 0:\n",
    "            nums[next_non_zero] = nums[i]\n",
    "            next_non_zero += 1\n",
    "    for i in range(next_non_zero, len(nums)):\n",
    "        nums[i] = 0\n",
    "    return nums\n",
    "nums_str = input(\"Enter the arr: \")\n",
    "nums = [int(num) for num in nums_str.split()]\n",
    "output = non_zero(nums)\n",
    "print(\"Output: \", output)\n"
   ]
  },
  {
   "cell_type": "code",
   "execution_count": null,
   "id": "532f9eaa",
   "metadata": {},
   "outputs": [],
   "source": []
  }
 ],
 "metadata": {
  "kernelspec": {
   "display_name": "Python 3 (ipykernel)",
   "language": "python",
   "name": "python3"
  },
  "language_info": {
   "codemirror_mode": {
    "name": "ipython",
    "version": 3
   },
   "file_extension": ".py",
   "mimetype": "text/x-python",
   "name": "python",
   "nbconvert_exporter": "python",
   "pygments_lexer": "ipython3",
   "version": "3.9.7"
  }
 },
 "nbformat": 4,
 "nbformat_minor": 5
}
