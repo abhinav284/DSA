{
 "cells": [
  {
   "cell_type": "markdown",
   "id": "775ffaff",
   "metadata": {},
   "source": [
    "Question 1\n",
    "\n",
    "Convert 1D Array Into 2D Array\n",
    "\n",
    "You are given a 0-indexed 1-dimensional (1D) integer array original, and two integers, m and n. You are tasked with creating a 2-dimensional (2D) array with  m rows and n columns using **all** the elements from original.\n",
    "\n",
    "The elements from indices 0 to n - 1 (inclusive) of original should form the first row of the constructed 2D array, the elements from indices n to 2 * n - 1 (**inclusive**) should form the second row of the constructed 2D array, and so on.\n",
    "\n",
    "Return an m x n 2D array constructed according to the above procedure, or an empty 2D array if it is impossible.\n",
    "\n",
    "Example 1:\n",
    "\n",
    "![Screenshot 2023-05-29 004311.png](https://s3-us-west-2.amazonaws.com/secure.notion-static.com/de7ec927-9e60-4545-9475-f3ee31116192/Screenshot_2023-05-29_004311.png)\n",
    "\n",
    "Input: original = [1,2,3,4], m = 2, n = 2\n",
    "\n",
    "Output: [[1,2],[3,4]]\n",
    "\n",
    "Explanation: The constructed 2D array should contain 2 rows and 2 columns.\n",
    "\n",
    "The first group of n=2 elements in original, [1,2], becomes the first row in the constructed 2D array.\n",
    "\n",
    "The second group of n=2 elements in original, [3,4], becomes the second row in the constructed 2D array."
   ]
  },
  {
   "cell_type": "code",
   "execution_count": 1,
   "id": "3f09cb52",
   "metadata": {},
   "outputs": [
    {
     "name": "stdout",
     "output_type": "stream",
     "text": [
      "Enter array: 1 2 3 4\n",
      "m: 2\n",
      "n: 2\n",
      "Output: [[1, 2], [3, 4]]\n"
     ]
    }
   ],
   "source": [
    "from typing import List\n",
    "\n",
    "def construct2DArray(original: List[int], m: int, n: int) -> List[List[int]]:\n",
    "    if len(original) != m * n:\n",
    "        return []\n",
    "\n",
    "    result = [[0] * n for _ in range(m)]\n",
    "\n",
    "    for index in range(m * n):\n",
    "        i = index // n\n",
    "        j = index % n\n",
    "        result[i][j] = original[index]\n",
    "\n",
    "    return result\n",
    "\n",
    "\n",
    "original = input(\"Enter array: \")\n",
    "original = list(map(int, original.split()))\n",
    "\n",
    "m = int(input(\"m: \"))\n",
    "n = int(input(\"n: \"))\n",
    "\n",
    "result = construct2DArray(original, m, n)\n",
    "print(\"Output:\", result)\n"
   ]
  },
  {
   "cell_type": "code",
   "execution_count": null,
   "id": "8dddc937",
   "metadata": {},
   "outputs": [],
   "source": []
  },
  {
   "cell_type": "markdown",
   "id": "082aa6d1",
   "metadata": {},
   "source": [
    "Question 2\n",
    "\n",
    "You have n coins and you want to build a staircase with these coins. The staircase consists of k rows where the ith row has exactly i coins. The last row of the staircase **may be** incomplete.\n",
    "\n",
    "Given the integer n, return the number of complete rows of the staircase you will build*.\n",
    "\n",
    "Example 1:\n",
    "\n",
    "![Screenshot 2023-05-29 004404.png](https://s3-us-west-2.amazonaws.com/secure.notion-static.com/0649438a-417e-4a97-ad4a-5d576ecbfee6/Screenshot_2023-05-29_004404.png)\n",
    "\n",
    "Input: n = 5\n",
    "\n",
    "Output: 2\n",
    "\n",
    "Explanation: Because the 3rd row is incomplete, we return 2."
   ]
  },
  {
   "cell_type": "code",
   "execution_count": 2,
   "id": "a48a6f7c",
   "metadata": {},
   "outputs": [
    {
     "name": "stdout",
     "output_type": "stream",
     "text": [
      "n: 5\n",
      "Output: 2\n"
     ]
    }
   ],
   "source": [
    "def arrangeCoins(n: int) -> int:\n",
    "    left = 0\n",
    "    right = n\n",
    "\n",
    "    while left <= right:\n",
    "        mid = (left + right) // 2\n",
    "        total_coins = (mid * (mid + 1)) // 2\n",
    "        if total_coins <= n:\n",
    "            left = mid + 1\n",
    "        else:\n",
    "            right = mid - 1\n",
    "    return right\n",
    "n = int(input(\"n: \"))\n",
    "result = arrangeCoins(n)\n",
    "print(\"Output:\", result)\n"
   ]
  },
  {
   "cell_type": "code",
   "execution_count": null,
   "id": "0f6aa430",
   "metadata": {},
   "outputs": [],
   "source": []
  },
  {
   "cell_type": "markdown",
   "id": "7847a25c",
   "metadata": {},
   "source": [
    "Question 3\n",
    "\n",
    "Given an integer array nums sorted in non-decreasing order, return an array of the squares of each number sorted in non-decreasing order*.\n",
    "\n",
    "Example 1:\n",
    "\n",
    "Input: nums = [-4,-1,0,3,10]\n",
    "\n",
    "Output: [0,1,9,16,100]\n",
    "\n",
    "Explanation: After squaring, the array becomes [16,1,0,9,100].\n",
    "\n",
    "After sorting, it becomes [0,1,9,16,100]."
   ]
  },
  {
   "cell_type": "code",
   "execution_count": 3,
   "id": "3479917f",
   "metadata": {},
   "outputs": [
    {
     "name": "stdout",
     "output_type": "stream",
     "text": [
      "ENter arr: -4 -1 0 3 10\n",
      "Output: [0, 1, 9, 16, 100]\n"
     ]
    }
   ],
   "source": [
    "from typing import List\n",
    "\n",
    "def sorted_squares(nums: List[int]) -> List[int]:\n",
    "    squared_nums = []\n",
    "    \n",
    "    for num in nums:\n",
    "        squared_nums.append(num * num)\n",
    "    \n",
    "    squared_nums.sort()\n",
    "    \n",
    "    return squared_nums\n",
    "nums = input(\"ENter arr: \")\n",
    "nums = list(map(int, nums.split()))\n",
    "result = sorted_squares(nums)\n",
    "print(\"Output:\", result)\n"
   ]
  },
  {
   "cell_type": "code",
   "execution_count": null,
   "id": "35bcd5a9",
   "metadata": {},
   "outputs": [],
   "source": []
  },
  {
   "cell_type": "markdown",
   "id": "17c67f03",
   "metadata": {},
   "source": [
    "Question 4\n",
    "\n",
    "Given two 0-indexed integer arrays nums1 and nums2, return a list answer of size 2 where:\n",
    "\n",
    "- answer[0] is a list of all distinct integers in nums1 which are not present in nums2.\n",
    "- answer[1] is a list of all distinct integers in nums2 which are not present in nums1.\n",
    "\n",
    "Note: that the integers in the lists may be returned in any order.\n",
    "\n",
    "Example 1:\n",
    "\n",
    "Input: nums1 = [1,2,3], nums2 = [2,4,6]\n",
    "\n",
    "Output: [[1,3],[4,6]]\n",
    "\n",
    "Explanation:\n",
    "\n",
    "For nums1, nums1[1] = 2 is present at index 0 of nums2, whereas nums1[0] = 1 and nums1[2] = 3 are not present in nums2. Therefore, answer[0] = [1,3].\n",
    "\n",
    "For nums2, nums2[0] = 2 is present at index 1 of nums1, whereas nums2[1] = 4 and nums2[2] = 6 are not present in nums2. Therefore, answer[1] = [4,6]."
   ]
  },
  {
   "cell_type": "code",
   "execution_count": 4,
   "id": "d9ea2f1e",
   "metadata": {},
   "outputs": [
    {
     "name": "stdout",
     "output_type": "stream",
     "text": [
      "Enter arr: 1 2 3\n",
      "Enter arr: 2 4 6\n",
      "nums2: [1, 3]\n",
      "nums1: [4, 6]\n"
     ]
    }
   ],
   "source": [
    "from typing import List\n",
    "\n",
    "def find_disappeared_numbers(nums1: List[int], nums2: List[int]) -> List[List[int]]:\n",
    "    set1 = set(nums1)\n",
    "    set2 = set(nums2)\n",
    "    \n",
    "    result1 = [num for num in set1 if num not in set2]\n",
    "    result2 = [num for num in set2 if num not in set1]\n",
    "    \n",
    "    return [result1, result2]\n",
    "\n",
    "\n",
    "nums1 = input(\"Enter arr: \")\n",
    "nums1 = list(map(int, nums1.split()))\n",
    "nums2 = input(\"Enter arr: \")\n",
    "nums2 = list(map(int, nums2.split()))\n",
    "result = find_disappeared_numbers(nums1, nums2)\n",
    "print(\"nums2:\", result[0])\n",
    "print(\"nums1:\", result[1])\n"
   ]
  },
  {
   "cell_type": "code",
   "execution_count": null,
   "id": "348083a7",
   "metadata": {},
   "outputs": [],
   "source": []
  },
  {
   "cell_type": "markdown",
   "id": "f8c86fc4",
   "metadata": {},
   "source": [
    "Question 5\n",
    "\n",
    "Given two integer arrays arr1 and arr2, and the integer d, return the distance value between the two arrays.\n",
    "\n",
    "The distance value is defined as the number of elements arr1[i] such that there is not any element arr2[j] where |arr1[i]-arr2[j]| <= d.\n",
    "\n",
    "Example 1:\n",
    "\n",
    "Input: arr1 = [4,5,8], arr2 = [10,9,1,8], d = 2\n",
    "\n",
    "Output: 2\n",
    "Explanation:\n",
    "\n",
    "For arr1[0]=4 we have:\n",
    "\n",
    "|4-10|=6 > d=2\n",
    "\n",
    "|4-9|=5 > d=2\n",
    "\n",
    "|4-1|=3 > d=2\n",
    "\n",
    "|4-8|=4 > d=2\n",
    "\n",
    "For arr1[1]=5 we have:\n",
    "\n",
    "|5-10|=5 > d=2\n",
    "\n",
    "|5-9|=4 > d=2\n",
    "\n",
    "|5-1|=4 > d=2\n",
    "\n",
    "|5-8|=3 > d=2\n",
    "\n",
    "For arr1[2]=8 we have:\n",
    "\n",
    "|8-10|=2 <= d=2\n",
    "\n",
    "|8-9|=1 <= d=2\n",
    "\n",
    "|8-1|=7 > d=2\n",
    "|8-8|=0 <= d=2"
   ]
  },
  {
   "cell_type": "code",
   "execution_count": 6,
   "id": "7bb35f78",
   "metadata": {},
   "outputs": [
    {
     "name": "stdout",
     "output_type": "stream",
     "text": [
      "Enter arr: 4 5 8\n",
      "Enter arr: 10 9 1 8\n",
      "d: 2\n",
      "Output: 2\n"
     ]
    }
   ],
   "source": [
    "from typing import List\n",
    "\n",
    "def find_the_distance_value(arr1: List[int], arr2: List[int], d: int) -> int:\n",
    "    distance = 0\n",
    "    \n",
    "    for num1 in arr1:\n",
    "        found = False\n",
    "        \n",
    "        for num2 in arr2:\n",
    "            if abs(num1 - num2) <= d:\n",
    "                found = True\n",
    "                break\n",
    "        \n",
    "        if not found:\n",
    "            distance += 1\n",
    "    \n",
    "    return distance\n",
    "arr1 = input(\"Enter arr: \")\n",
    "arr1 = list(map(int, arr1.split()))\n",
    "arr2 = input(\"Enter arr: \")\n",
    "arr2 = list(map(int, arr2.split()))\n",
    "d = int(input(\"d: \"))\n",
    "result = find_the_distance_value(arr1, arr2, d)\n",
    "print(\"Output:\", result)\n"
   ]
  },
  {
   "cell_type": "code",
   "execution_count": null,
   "id": "fe8ffe0a",
   "metadata": {},
   "outputs": [],
   "source": []
  },
  {
   "cell_type": "markdown",
   "id": "260b0126",
   "metadata": {},
   "source": [
    "Question 6\n",
    "\n",
    "Given an integer array nums of length n where all the integers of nums are in the range [1, n] and each integer appears **once** or **twice**, return *an array of all the integers that appears **twice***.\n",
    "\n",
    "You must write an algorithm that runs in O(n) time and uses only constant extra space.\n",
    "\n",
    "Example 1:\n",
    "\n",
    "Input: nums = [4,3,2,7,8,2,3,1]\n",
    "\n",
    "Output:\n",
    "\n",
    "[2,3]"
   ]
  },
  {
   "cell_type": "code",
   "execution_count": 7,
   "id": "55760ca4",
   "metadata": {},
   "outputs": [
    {
     "name": "stdout",
     "output_type": "stream",
     "text": [
      "Enter arr: 4 3 2 7 8 2 3 1\n",
      "Output: [2, 3]\n"
     ]
    }
   ],
   "source": [
    "from typing import List\n",
    "\n",
    "def find_duplicates(nums: List[int]) -> List[int]:\n",
    "    result = []\n",
    "    \n",
    "    for num in nums:\n",
    "        idx = abs(num) - 1\n",
    "        \n",
    "        if nums[idx] > 0:\n",
    "            nums[idx] = -nums[idx]\n",
    "        else:\n",
    "            result.append(abs(num))\n",
    "    \n",
    "    return result\n",
    "nums = input(\"Enter arr: \")\n",
    "nums = list(map(int, nums.split()))\n",
    "result = find_duplicates(nums)\n",
    "print(\"Output:\", result)\n"
   ]
  },
  {
   "cell_type": "code",
   "execution_count": null,
   "id": "1b7f535d",
   "metadata": {},
   "outputs": [],
   "source": []
  },
  {
   "cell_type": "markdown",
   "id": "ed511b9c",
   "metadata": {},
   "source": [
    "Question 7\n",
    "\n",
    "Suppose an array of length n sorted in ascending order is rotated between 1 and n times. For example, the array nums = [0,1,2,4,5,6,7] might become:\n",
    "\n",
    "- [4,5,6,7,0,1,2] if it was rotated 4 times.\n",
    "- [0,1,2,4,5,6,7] if it was rotated 7 times.\n",
    "\n",
    "Notice that rotating an array [a[0], a[1], a[2], ..., a[n-1]] 1 time results in the array [a[n-1], a[0], a[1], a[2], ..., a[n-2]].\n",
    "\n",
    "Given the sorted rotated array nums of unique elements, return the minimum element of this array.\n",
    "\n",
    "You must write an algorithm that runs in O(log n) time.\n",
    "\n",
    "Example 1:\n",
    "\n",
    "Input: nums = [3,4,5,1,2]\n",
    "\n",
    "Output: 1\n",
    "Explanation:\n",
    "\n",
    "The original array was [1,2,3,4,5] rotated 3 times."
   ]
  },
  {
   "cell_type": "code",
   "execution_count": 8,
   "id": "f2c13b3d",
   "metadata": {},
   "outputs": [
    {
     "name": "stdout",
     "output_type": "stream",
     "text": [
      "Enter arr: 3 4 5 1 2\n",
      "Output: 1\n"
     ]
    }
   ],
   "source": [
    "from typing import List\n",
    "\n",
    "def find_min(nums: List[int]) -> int:\n",
    "    left = 0\n",
    "    right = len(nums) - 1\n",
    "    \n",
    "    while left < right:\n",
    "        mid = (left + right) // 2\n",
    "        \n",
    "        if nums[mid] > nums[right]:\n",
    "            left = mid + 1\n",
    "        else:\n",
    "            right = mid\n",
    "    \n",
    "    return nums[left]\n",
    "nums = input(\"Enter arr: \")\n",
    "nums = list(map(int, nums.split()))\n",
    "result = find_min(nums)\n",
    "print(\"Output:\", result)\n"
   ]
  },
  {
   "cell_type": "code",
   "execution_count": null,
   "id": "4943873a",
   "metadata": {},
   "outputs": [],
   "source": []
  },
  {
   "cell_type": "markdown",
   "id": "94114775",
   "metadata": {},
   "source": [
    "Question 8\n",
    "\n",
    "An integer array original is transformed into a **doubled** array changed by appending **twice the value** of every element in original, and then randomly **shuffling** the resulting array.\n",
    "\n",
    "Given an array changed, return original *if* changed *is a **doubled** array. If* changed *is not a **doubled** array, return an empty array. The elements in* original *may be returned in **any** order*.\n",
    "\n",
    "Example 1:\n",
    "Input: changed = [1,3,4,2,6,8]\n",
    "\n",
    "Output: [1,3,4]\n",
    "\n",
    "Explanation: One possible original array could be [1,3,4]:\n",
    "\n",
    "- Twice the value of 1 is 1 * 2 = 2.\n",
    "- Twice the value of 3 is 3 * 2 = 6.\n",
    "- Twice the value of 4 is 4 * 2 = 8.\n",
    "\n",
    "Other original arrays could be [4,3,1] or [3,1,4]."
   ]
  },
  {
   "cell_type": "code",
   "execution_count": 1,
   "id": "6cc9a67b",
   "metadata": {},
   "outputs": [
    {
     "name": "stdout",
     "output_type": "stream",
     "text": [
      "Enter arr: 1 3 4 2 6 8\n",
      "Output: []\n"
     ]
    }
   ],
   "source": [
    "from typing import List\n",
    "\n",
    "def find_original_array(changed: List[int]) -> List[int]:\n",
    "    if len(changed) % 2 != 0:\n",
    "        return []\n",
    "\n",
    "    changed.sort()\n",
    "    original = []\n",
    "\n",
    "    for i in range(len(changed)):\n",
    "        if i > 0 and changed[i] == changed[i - 1]:\n",
    "            continue\n",
    "\n",
    "        if changed[i] % 2 != 0:\n",
    "            return []\n",
    "\n",
    "        num = changed[i] // 2\n",
    "        original.append(num)\n",
    "\n",
    "    if len(original) * 2 != len(changed):\n",
    "        return []\n",
    "\n",
    "    return original\n",
    "\n",
    "changed = input(\"Enter arr: \")\n",
    "changed = list(map(int, changed.split()))\n",
    "result = find_original_array(changed)\n",
    "print(\"Output:\", result)\n"
   ]
  },
  {
   "cell_type": "code",
   "execution_count": null,
   "id": "2f49e36f",
   "metadata": {},
   "outputs": [],
   "source": []
  }
 ],
 "metadata": {
  "kernelspec": {
   "display_name": "Python 3 (ipykernel)",
   "language": "python",
   "name": "python3"
  },
  "language_info": {
   "codemirror_mode": {
    "name": "ipython",
    "version": 3
   },
   "file_extension": ".py",
   "mimetype": "text/x-python",
   "name": "python",
   "nbconvert_exporter": "python",
   "pygments_lexer": "ipython3",
   "version": "3.9.7"
  }
 },
 "nbformat": 4,
 "nbformat_minor": 5
}
