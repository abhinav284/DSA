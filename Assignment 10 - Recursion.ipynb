{
 "cells": [
  {
   "cell_type": "markdown",
   "id": "83d019f7",
   "metadata": {},
   "source": [
    "Question 1\n",
    "\n",
    "Given an integer `n`, return *`true` if it is a power of three. Otherwise, return `false`*.\n",
    "\n",
    "An integer `n` is a power of three, if there exists an integer `x` such that `n == 3x`.\n",
    "\n",
    "Example 1:\n",
    "    \n",
    "Input: n = 27\n",
    "Output: true\n",
    "Explanation: 27 = 33\n",
    "    \n",
    "Example 2:\n",
    "\n",
    "Input: n = 0\n",
    "Output: false\n",
    "Explanation: There is no x where 3x = 0.\n",
    "\n",
    "Example3:\n",
    "    \n",
    "Input: n = -1\n",
    "Output: false\n",
    "Explanation: There is no x where 3x = (-1)."
   ]
  },
  {
   "cell_type": "code",
   "execution_count": 2,
   "id": "29868ff8",
   "metadata": {},
   "outputs": [
    {
     "name": "stdout",
     "output_type": "stream",
     "text": [
      "27\n",
      "True\n"
     ]
    }
   ],
   "source": [
    "import math\n",
    "\n",
    "def isPowerOfThree(n):\n",
    "    if n <= 0:\n",
    "        return False\n",
    "    x = math.log10(n) / math.log10(3)\n",
    "    return x.is_integer()\n",
    "\n",
    "n = int(input())\n",
    "\n",
    "if isPowerOfThree(n):\n",
    "    print(True)\n",
    "else:\n",
    "    print(False)\n"
   ]
  },
  {
   "cell_type": "code",
   "execution_count": null,
   "id": "3c90d771",
   "metadata": {},
   "outputs": [],
   "source": []
  },
  {
   "cell_type": "markdown",
   "id": "9a2e893b",
   "metadata": {},
   "source": [
    "Question 2\n",
    "\n",
    "You have a list `arr` of all integers in the range `[1, n]` sorted in a strictly increasing order. Apply the following algorithm on `arr`:\n",
    "\n",
    "- Starting from left to right, remove the first number and every other number afterward until you reach the end of the list.\n",
    "- Repeat the previous step again, but this time from right to left, remove the rightmost number and every other number from the remaining numbers.\n",
    "- Keep repeating the steps again, alternating left to right and right to left, until a single number remains.\n",
    "\n",
    "Given the integer `n`, return *the last number that remains in* `arr`.\n",
    "\n",
    "Example 1:\n",
    "    \n",
    "Input: n = 9\n",
    "Output: 6\n",
    "Explanation:\n",
    "arr = [1, 2,3, 4,5, 6,7, 8,9]\n",
    "arr = [2,4, 6,8]\n",
    "arr = [2, 6]\n",
    "arr = [6]\n",
    "\n",
    "Example 2:\n",
    "    \n",
    "Input: n = 9\n",
    "Output: 6\n",
    "Explanation:\n",
    "arr = [1, 2,3, 4,5, 6,7, 8,9]\n",
    "arr = [2,4, 6,8]\n",
    "arr = [2, 6]\n",
    "arr = [6]\n"
   ]
  },
  {
   "cell_type": "code",
   "execution_count": 4,
   "id": "b50794fb",
   "metadata": {},
   "outputs": [
    {
     "name": "stdout",
     "output_type": "stream",
     "text": [
      "9\n",
      "2\n"
     ]
    }
   ],
   "source": [
    "def lastRemaining(n):\n",
    "    arr = list(range(1, n + 1))\n",
    "    left_to_right = True\n",
    "\n",
    "    while len(arr) > 1:\n",
    "        if left_to_right:\n",
    "            arr = arr[1::2]  \n",
    "        else:\n",
    "            arr = arr[-2::-2]  \n",
    "\n",
    "        left_to_right = not left_to_right\n",
    "\n",
    "    return arr[0]\n",
    "\n",
    "n = int(input())\n",
    "result = lastRemaining(n)\n",
    "print(result)\n"
   ]
  },
  {
   "cell_type": "code",
   "execution_count": null,
   "id": "8addf5f9",
   "metadata": {},
   "outputs": [],
   "source": []
  },
  {
   "cell_type": "markdown",
   "id": "7b63e83d",
   "metadata": {},
   "source": [
    "Question 3\n",
    "\n",
    "Given a set represented as a string, write a recursive code to print all subsets of it. The subsets can be printed in any order.\n",
    "\n",
    "Example 1:\n",
    "\n",
    "Input :  set = “abc”\n",
    "\n",
    "Output : { “”, “a”, “b”, “c”, “ab”, “ac”, “bc”, “abc”}\n",
    "\n",
    "Example 2:\n",
    "\n",
    "Input : set = “abcd”\n",
    "\n",
    "Output : { “”, “a” ,”ab” ,”abc” ,”abcd”, “abd” ,”ac” ,”acd”, “ad” ,”b”, “bc” ,”bcd” ,”bd” ,”c” ,”cd” ,”d” }"
   ]
  },
  {
   "cell_type": "code",
   "execution_count": 14,
   "id": "017d9f54",
   "metadata": {},
   "outputs": [
    {
     "name": "stdout",
     "output_type": "stream",
     "text": [
      "Enter the set as a string: ABC\n",
      "{A, B, C}\n",
      "{A, B}\n",
      "{A, C}\n",
      "{A}\n",
      "{B, C}\n",
      "{B}\n",
      "{C}\n",
      "{}\n"
     ]
    }
   ],
   "source": [
    "def generateSubsets(set_str, current_set, index):\n",
    "    if index == len(set_str):\n",
    "        print(\"{\" + \", \".join(current_set) + \"}\")\n",
    "        return\n",
    "    generateSubsets(set_str, current_set + [set_str[index]], index + 1)\n",
    "    generateSubsets(set_str, current_set, index + 1) \n",
    "\n",
    "set_str = input(\"Enter the set as a string: \")\n",
    "generateSubsets(set_str, [], 0)\n"
   ]
  },
  {
   "cell_type": "code",
   "execution_count": null,
   "id": "ae5146be",
   "metadata": {},
   "outputs": [],
   "source": []
  },
  {
   "cell_type": "markdown",
   "id": "bc017140",
   "metadata": {},
   "source": [
    "Question 4\n",
    "\n",
    "Given a string calculate length of the string using recursion.\n",
    "\n",
    "Examples:\n",
    "Input : str = \"abcd\"\n",
    "Output :4\n",
    "\n",
    "Input : str = \"GEEKSFORGEEKS\"\n",
    "Output :13"
   ]
  },
  {
   "cell_type": "code",
   "execution_count": 15,
   "id": "b5decb11",
   "metadata": {},
   "outputs": [
    {
     "name": "stdout",
     "output_type": "stream",
     "text": [
      "GEEKSFORGEEKS\n",
      "13\n"
     ]
    }
   ],
   "source": [
    "def calculateLength(string):\n",
    "    if string == \"\":\n",
    "        return 0\n",
    "    else:\n",
    "        return 1 + calculateLength(string[1:])\n",
    "\n",
    "string = input()\n",
    "length = calculateLength(string)\n",
    "print(length)\n"
   ]
  },
  {
   "cell_type": "code",
   "execution_count": null,
   "id": "368d9ae2",
   "metadata": {},
   "outputs": [],
   "source": []
  },
  {
   "cell_type": "markdown",
   "id": "312da361",
   "metadata": {},
   "source": [
    "Question 5\n",
    "\n",
    "We are given a string S, we need to find count of all contiguous substrings starting and ending with same character.\n",
    "\n",
    "Examples :\n",
    "    \n",
    "Input  : S = \"abcab\"\n",
    "Output : 7\n",
    "There are 15 substrings of \"abcab\"\n",
    "a, ab, abc, abca, abcab, b, bc, bca\n",
    "bcab, c, ca, cab, a, ab, b\n",
    "Out of the above substrings, there\n",
    "are 7 substrings : a, abca, b, bcab,\n",
    "c, a and b.\n",
    "\n",
    "Input  : S = \"aba\"\n",
    "Output : 4\n",
    "The substrings are a, b, a and aba"
   ]
  },
  {
   "cell_type": "code",
   "execution_count": 16,
   "id": "50ead9f3",
   "metadata": {},
   "outputs": [
    {
     "name": "stdout",
     "output_type": "stream",
     "text": [
      "abcab\n",
      "7\n"
     ]
    }
   ],
   "source": [
    "def countContiguousSubstrings(string):\n",
    "    count = 0\n",
    "    n = len(string)\n",
    "\n",
    "    for i in range(n):\n",
    "        for j in range(i, n):\n",
    "            if string[i] == string[j]:\n",
    "                count += 1\n",
    "\n",
    "    return count\n",
    "string = input()\n",
    "count = countContiguousSubstrings(string)\n",
    "print(count)\n"
   ]
  },
  {
   "cell_type": "code",
   "execution_count": null,
   "id": "09f6ad78",
   "metadata": {},
   "outputs": [],
   "source": []
  },
  {
   "cell_type": "markdown",
   "id": "980721c4",
   "metadata": {},
   "source": [
    "Question 6\n",
    "\n",
    "The [tower of Hanoi](https://en.wikipedia.org/wiki/Tower_of_Hanoi) is a famous puzzle where we have three rods and N disks. The objective of the puzzle is to move the entire stack to another rod. You are given the number of discs N. Initially, these discs are in the rod 1. You need to print all the steps of discs movement so that all the discs reach the 3rd rod. Also, you need to find the total moves.Note: The discs are arranged such that the top disc is numbered 1 and the bottom-most disc is numbered N. Also, all the discs have different sizes and a bigger disc cannot be put on the top of a smaller disc. Refer the provided link to get a better clarity about the puzzle.\n",
    "\n",
    "Example 1:\n",
    "\n",
    "Input:\n",
    "N = 2\n",
    "Output:\n",
    "move disk 1 from rod 1 to rod 2\n",
    "move disk 2 from rod 1 to rod 3\n",
    "move disk 1 from rod 2 to rod 3\n",
    "3\n",
    "Explanation:For N=2 , steps will be\n",
    "as follows in the example and total\n",
    "3 steps will be taken.\n",
    "\n",
    "Example 2:\n",
    "\n",
    "Input:\n",
    "N = 3\n",
    "Output:\n",
    "move disk 1 from rod 1 to rod 3\n",
    "move disk 2 from rod 1 to rod 2\n",
    "move disk 1 from rod 3 to rod 2\n",
    "move disk 3 from rod 1 to rod 3\n",
    "move disk 1 from rod 2 to rod 1\n",
    "move disk 2 from rod 2 to rod 3\n",
    "move disk 1 from rod 1 to rod 3\n",
    "7\n",
    "Explanation:For N=3 , steps will be\n",
    "as follows in the example and total\n",
    "7 steps will be taken."
   ]
  },
  {
   "cell_type": "code",
   "execution_count": 17,
   "id": "ecd425d0",
   "metadata": {},
   "outputs": [
    {
     "name": "stdout",
     "output_type": "stream",
     "text": [
      "2\n",
      "Move disk 1 from rod 1 to rod 2\n",
      "Move disk 2 from rod 1 to rod 3\n",
      "Move disk 1 from rod 2 to rod 3\n",
      "3\n"
     ]
    }
   ],
   "source": [
    "def towerOfHanoi(n, source, destination, auxiliary):\n",
    "    if n == 1:\n",
    "        print(\"Move disk 1 from rod\", source, \"to rod\", destination)\n",
    "        return 1\n",
    "    else:\n",
    "        count = 0\n",
    "        count += towerOfHanoi(n - 1, source, auxiliary, destination)\n",
    "        print(\"Move disk\", n, \"from rod\", source, \"to rod\", destination)\n",
    "        count += 1\n",
    "        count += towerOfHanoi(n - 1, auxiliary, destination, source)\n",
    "        return count\n",
    "\n",
    "N = int(input(\"\"))\n",
    "total_moves = towerOfHanoi(N, 1, 3, 2)\n",
    "print(total_moves)\n"
   ]
  },
  {
   "cell_type": "code",
   "execution_count": null,
   "id": "71b7d3c7",
   "metadata": {},
   "outputs": [],
   "source": []
  },
  {
   "cell_type": "markdown",
   "id": "afcb7842",
   "metadata": {},
   "source": [
    "Question 7\n",
    "\n",
    "Given a string str, the task is to print all the permutations of str. A permutation is an arrangement of all or part of a set of objects, with regard to the order of the arrangement. For instance, the words ‘bat’ and ‘tab’ represents two distinct permutation (or arrangements) of a similar three letter word.\n",
    "\n",
    "Examples:\n",
    "\n",
    " Input: str = “cd”\n",
    "\n",
    "Output: cd dc\n",
    " \n",
    "Input: str = “abb”\n",
    " \n",
    "Output:abb abb bab bba bab bba\n"
   ]
  },
  {
   "cell_type": "code",
   "execution_count": 1,
   "id": "46dd31f7",
   "metadata": {},
   "outputs": [
    {
     "name": "stdout",
     "output_type": "stream",
     "text": [
      "abb\n",
      "abb\n",
      "abb\n",
      "bab\n",
      "bba\n",
      "bba\n",
      "bab\n"
     ]
    }
   ],
   "source": [
    "def permutations(string, start, end):\n",
    "    if start == end:\n",
    "        print(\"\".join(string))\n",
    "    else:\n",
    "        for i in range(start, end + 1):\n",
    "            string[start], string[i] = string[i], string[start]\n",
    "            permutations(string, start + 1, end) \n",
    "            string[start], string[i] = string[i], string[start] \n",
    "\n",
    "str_input = input()\n",
    "characters = list(str_input)\n",
    "permutations(characters, 0, len(characters) - 1)"
   ]
  },
  {
   "cell_type": "code",
   "execution_count": null,
   "id": "1c2ce57b",
   "metadata": {},
   "outputs": [],
   "source": []
  },
  {
   "cell_type": "markdown",
   "id": "2d78f742",
   "metadata": {},
   "source": [
    "Question 8\n",
    "\n",
    "Given a string, count total number of consonants in it. A consonant is an English alphabet character that is not vowel (a, e, i, o and u). Examples of constants are b, c, d, f, and g.\n",
    "\n",
    "Examples :\n",
    "    \n",
    "Input : abc de\n",
    "Output : 3\n",
    "There are three consonants b, c and d.\n",
    "\n",
    "Input : geeksforgeeks portal\n",
    "Output : 12"
   ]
  },
  {
   "cell_type": "code",
   "execution_count": 2,
   "id": "03d8f665",
   "metadata": {},
   "outputs": [
    {
     "name": "stdout",
     "output_type": "stream",
     "text": [
      "abc de\n",
      "3\n"
     ]
    }
   ],
   "source": [
    "def countConsonants(string):\n",
    "    consonant_count = 0\n",
    "    vowels = ['a', 'e', 'i', 'o', 'u']\n",
    "\n",
    "    for char in string:\n",
    "        if char.isalpha() and char.lower() not in vowels:\n",
    "            consonant_count += 1\n",
    "\n",
    "    return consonant_count\n",
    "\n",
    "string = input()\n",
    "consonant_count = countConsonants(string)\n",
    "print(consonant_count)\n"
   ]
  },
  {
   "cell_type": "code",
   "execution_count": null,
   "id": "f944c2c5",
   "metadata": {},
   "outputs": [],
   "source": []
  }
 ],
 "metadata": {
  "kernelspec": {
   "display_name": "Python 3 (ipykernel)",
   "language": "python",
   "name": "python3"
  },
  "language_info": {
   "codemirror_mode": {
    "name": "ipython",
    "version": 3
   },
   "file_extension": ".py",
   "mimetype": "text/x-python",
   "name": "python",
   "nbconvert_exporter": "python",
   "pygments_lexer": "ipython3",
   "version": "3.9.7"
  }
 },
 "nbformat": 4,
 "nbformat_minor": 5
}
