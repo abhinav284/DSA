{
 "cells": [
  {
   "cell_type": "markdown",
   "id": "75f7a976",
   "metadata": {},
   "source": [
    "Question 1\n",
    "\n",
    "Given an integer `n`, return `true` if it is a power of two. Otherwise, return `false`.\n",
    "\n",
    "An integer `n` is a power of two, if there exists an integer `x` such that `n == 2x`.\n",
    "\n",
    "Example 1:\n",
    "Input: n = 1 \n",
    "\n",
    "Output: true\n",
    "\n",
    "Example 2:\n",
    "Input: n = 16 \n",
    "\n",
    "Output: true\n",
    "\n",
    "Example 3:\n",
    "Input: n = 3 \n",
    "\n",
    "Output: fals"
   ]
  },
  {
   "cell_type": "code",
   "execution_count": 2,
   "id": "6d026f19",
   "metadata": {},
   "outputs": [
    {
     "name": "stdout",
     "output_type": "stream",
     "text": [
      "Integer: 36\n",
      "False\n"
     ]
    }
   ],
   "source": [
    "n = int(input(\"Integer: \"))\n",
    "\n",
    "def power_of_two(n):\n",
    "    if n == 1:\n",
    "        return True\n",
    "    elif n <= 0 or n % 2 != 0:\n",
    "        return False\n",
    "    else:\n",
    "        return power_of_two(n // 2)\n",
    "\n",
    "result = power_of_two(n)\n",
    "print(result)\n"
   ]
  },
  {
   "cell_type": "code",
   "execution_count": null,
   "id": "59be9251",
   "metadata": {},
   "outputs": [],
   "source": []
  },
  {
   "cell_type": "markdown",
   "id": "a5d55fdb",
   "metadata": {},
   "source": [
    "Question 2\n",
    "\n",
    "Given a number n, find the sum of the first natural numbers.\n",
    "\n",
    "Example 1:\n",
    "\n",
    "Input: n = 3 \n",
    "\n",
    "Output: 6\n",
    "Example 2:\n",
    "\n",
    "Input  : 5 \n",
    "\n",
    "Output : 15"
   ]
  },
  {
   "cell_type": "code",
   "execution_count": 3,
   "id": "d06f39cf",
   "metadata": {},
   "outputs": [
    {
     "name": "stdout",
     "output_type": "stream",
     "text": [
      "Enter a number: 3\n",
      "6\n"
     ]
    }
   ],
   "source": [
    "n = int(input(\"Enter a number: \"))\n",
    "\n",
    "def sum_of_natural_numbers(n):\n",
    "    if n == 1:\n",
    "        return 1\n",
    "    else:\n",
    "        return n + sum_of_natural_numbers(n - 1)\n",
    "\n",
    "result = sum_of_natural_numbers(n)\n",
    "print(result)\n"
   ]
  },
  {
   "cell_type": "code",
   "execution_count": null,
   "id": "294429ef",
   "metadata": {},
   "outputs": [],
   "source": []
  },
  {
   "cell_type": "markdown",
   "id": "c8e6bbe0",
   "metadata": {},
   "source": [
    "Question 3\n",
    "\n",
    "Given a positive integer, N. Find the factorial of N. \n",
    "\n",
    "Example 1:\n",
    "\n",
    "Input: N = 5 \n",
    "\n",
    "Output: 120\n",
    "\n",
    "Example 2:\n",
    "\n",
    "Input: N = 4\n",
    "\n",
    "Output: 24"
   ]
  },
  {
   "cell_type": "code",
   "execution_count": 4,
   "id": "96149943",
   "metadata": {},
   "outputs": [
    {
     "name": "stdout",
     "output_type": "stream",
     "text": [
      "integer: 5\n",
      "120\n"
     ]
    }
   ],
   "source": [
    "n = int(input(\"integer: \"))\n",
    "\n",
    "def factorial(n):\n",
    "    if n == 0 or n == 1:\n",
    "        return 1\n",
    "    else:\n",
    "        return n * factorial(n - 1)\n",
    "\n",
    "result = factorial(n)\n",
    "print(result)\n"
   ]
  },
  {
   "cell_type": "code",
   "execution_count": null,
   "id": "3f21097c",
   "metadata": {},
   "outputs": [],
   "source": []
  },
  {
   "cell_type": "markdown",
   "id": "e5bb7714",
   "metadata": {},
   "source": [
    "Question 4\n",
    "\n",
    "Given a number N and a power P, the task is to find the exponent of this number raised to the given power, i.e. N^P.\n",
    "\n",
    "Example 1 : \n",
    "\n",
    "Input: N = 5, P = 2\n",
    "\n",
    "Output: 25\n",
    "\n",
    "Example 2 :\n",
    "Input: N = 2, P = 5\n",
    "\n",
    "Output: 32"
   ]
  },
  {
   "cell_type": "code",
   "execution_count": 6,
   "id": "e4cf08dc",
   "metadata": {},
   "outputs": [
    {
     "name": "stdout",
     "output_type": "stream",
     "text": [
      "Enter a number: 5\n",
      "Enter a power: 2\n",
      "25\n"
     ]
    }
   ],
   "source": [
    "N = int(input(\"Enter a number: \"))\n",
    "P = int(input(\"Enter a power: \"))\n",
    "\n",
    "def exponent(N, P):\n",
    "    if P == 0:\n",
    "        return 1\n",
    "    elif P < 0:\n",
    "        return 1 / exponent(N, -P)\n",
    "    else:\n",
    "        return N * exponent(N, P - 1)\n",
    "\n",
    "\n",
    "result = exponent(N, P)\n",
    "print(result)\n"
   ]
  },
  {
   "cell_type": "code",
   "execution_count": null,
   "id": "6323e2a1",
   "metadata": {},
   "outputs": [],
   "source": []
  },
  {
   "cell_type": "markdown",
   "id": "2445ee29",
   "metadata": {},
   "source": [
    "Question 5\n",
    "\n",
    "Given an array of integers arr, the task is to find maximum element of that array using recursion.\n",
    "\n",
    "Example 1:\n",
    "\n",
    "Input: arr = {1, 4, 3, -5, -4, 8, 6};\n",
    "Output: 8\n",
    "\n",
    "Example 2:\n",
    "\n",
    "Input: arr = {1, 4, 45, 6, 10, -8};\n",
    "Output: 45\n"
   ]
  },
  {
   "cell_type": "code",
   "execution_count": 7,
   "id": "6cc2feed",
   "metadata": {},
   "outputs": [
    {
     "name": "stdout",
     "output_type": "stream",
     "text": [
      "Enter the array elements (space-separated): 1 4 3 -5 -4 8 6\n",
      "8\n"
     ]
    }
   ],
   "source": [
    "arr = list(map(int, input(\"Enter the array elements (space-separated): \").split()))\n",
    "\n",
    "def find_max(arr, index):\n",
    "    if index == len(arr) - 1:\n",
    "        return arr[index]\n",
    "    else:\n",
    "        return max(arr[index], find_max(arr, index + 1))\n",
    "    \n",
    "result = find_max(arr, 0)\n",
    "print(result)\n"
   ]
  },
  {
   "cell_type": "code",
   "execution_count": null,
   "id": "e7cce51b",
   "metadata": {},
   "outputs": [],
   "source": []
  },
  {
   "cell_type": "code",
   "execution_count": null,
   "id": "703d3e25",
   "metadata": {},
   "outputs": [],
   "source": []
  },
  {
   "cell_type": "markdown",
   "id": "3dbd45a5",
   "metadata": {},
   "source": [
    "Question 6\n",
    "\n",
    "Given first term (a), common difference (d) and a integer N of the Arithmetic Progression series, the task is to find Nth term of the series.\n",
    "\n",
    "Example 1:\n",
    "    \n",
    "Input : a = 2 d = 1 N = 5\n",
    "Output : 6\n",
    "The 5th term of the series is : 6\n",
    "\n",
    "Example 2:\n",
    "\n",
    "Input : a = 5 d = 2 N = 10\n",
    "Output : 23\n",
    "The 10th term of the series is : 23\n",
    "\n",
    "\n"
   ]
  },
  {
   "cell_type": "code",
   "execution_count": 1,
   "id": "861effaa",
   "metadata": {},
   "outputs": [
    {
     "name": "stdout",
     "output_type": "stream",
     "text": [
      "a: 2\n",
      "d: 1\n",
      "Enter the value of N: 5\n",
      "The 5th term of the series is: 6\n"
     ]
    }
   ],
   "source": [
    "a = int(input(\"a: \"))\n",
    "d = int(input(\"d: \"))\n",
    "N = int(input(\"Enter the value of N: \"))\n",
    "\n",
    "def find_nth_term(a, d, N):\n",
    "    if N == 1:\n",
    "        return a\n",
    "    else:\n",
    "        return find_nth_term(a + d, d, N - 1)\n",
    "\n",
    "result = find_nth_term(a, d, N)\n",
    "\n",
    "print(f\"The {N}th term of the series is: {result}\")\n"
   ]
  },
  {
   "cell_type": "code",
   "execution_count": null,
   "id": "e2f726fe",
   "metadata": {},
   "outputs": [],
   "source": []
  },
  {
   "cell_type": "markdown",
   "id": "58cd4b38",
   "metadata": {},
   "source": [
    "Question 7\n",
    "\n",
    "Given a string S, the task is to write a program to print all permutations of a given string.\n",
    "\n",
    "Example 1:\n",
    "\n",
    "Input:\n",
    "\n",
    "S = “ABC”\n",
    "\n",
    "Output:\n",
    "\n",
    "“ABC”, “ACB”, “BAC”, “BCA”, “CBA”, “CAB”\n",
    "\n",
    "Example 2:\n",
    "\n",
    "Input:\n",
    "\n",
    "S = “XY”\n",
    "\n",
    "Output:\n",
    "\n",
    "“XY”, “YX”"
   ]
  },
  {
   "cell_type": "code",
   "execution_count": 2,
   "id": "7eac401e",
   "metadata": {},
   "outputs": [
    {
     "name": "stdout",
     "output_type": "stream",
     "text": [
      "Enter a string: ABC\n",
      "ABC\n",
      "ACB\n",
      "BAC\n",
      "BCA\n",
      "CAB\n",
      "CBA\n"
     ]
    }
   ],
   "source": [
    "S = input(\"Enter a string: \")\n",
    "\n",
    "def print_permutations(S, current=\"\", result=[]):\n",
    "    if len(S) == 0:\n",
    "        result.append(current)\n",
    "    else:\n",
    "        for i in range(len(S)):\n",
    "            remaining = S[:i] + S[i+1:]\n",
    "            print_permutations(remaining, current + S[i], result)\n",
    "    return result\n",
    "\n",
    "permutations = print_permutations(S)\n",
    "\n",
    "for permutation in permutations:\n",
    "    print(permutation)\n"
   ]
  },
  {
   "cell_type": "code",
   "execution_count": null,
   "id": "c29b05cd",
   "metadata": {},
   "outputs": [],
   "source": []
  },
  {
   "cell_type": "markdown",
   "id": "23275e59",
   "metadata": {},
   "source": [
    "Question 8\n",
    "\n",
    "Given an array, find a product of all array elements.\n",
    "\n",
    "Example 1:\n",
    "\n",
    "Input  : arr[] = {1, 2, 3, 4, 5}\n",
    "Output : 120\n",
    "Example 2:\n",
    "\n",
    "Input  : arr[] = {1, 6, 3}\n",
    "Output : 18"
   ]
  },
  {
   "cell_type": "code",
   "execution_count": 3,
   "id": "60e5c008",
   "metadata": {},
   "outputs": [
    {
     "name": "stdout",
     "output_type": "stream",
     "text": [
      "array element: 1 2 3 4 5\n",
      "120\n"
     ]
    }
   ],
   "source": [
    "arr = list(map(int, input(\"array element: \").split()))\n",
    "\n",
    "def find_product(arr, index):\n",
    "    if index == len(arr) - 1:\n",
    "        return arr[index]\n",
    "    else:\n",
    "        return arr[index] * find_product(arr, index + 1)\n",
    "\n",
    "result = find_product(arr, 0)\n",
    "\n",
    "print(result)\n"
   ]
  },
  {
   "cell_type": "code",
   "execution_count": null,
   "id": "398fc959",
   "metadata": {},
   "outputs": [],
   "source": []
  }
 ],
 "metadata": {
  "kernelspec": {
   "display_name": "Python 3 (ipykernel)",
   "language": "python",
   "name": "python3"
  },
  "language_info": {
   "codemirror_mode": {
    "name": "ipython",
    "version": 3
   },
   "file_extension": ".py",
   "mimetype": "text/x-python",
   "name": "python",
   "nbconvert_exporter": "python",
   "pygments_lexer": "ipython3",
   "version": "3.9.7"
  }
 },
 "nbformat": 4,
 "nbformat_minor": 5
}
