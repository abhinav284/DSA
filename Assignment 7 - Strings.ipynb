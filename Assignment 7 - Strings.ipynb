{
 "cells": [
  {
   "cell_type": "markdown",
   "id": "f5803eb9",
   "metadata": {},
   "source": [
    "Question 1\n",
    "\n",
    "Given two strings s and t, determine if they are isomorphic.\n",
    "Two strings s and t are isomorphic if the characters in s can be replaced to get t.\n",
    "All occurrences of a character must be replaced with another character while preserving the order of characters. No two characters may map to the same character, but a character may map to itself.\n",
    "Example 1:\n",
    "Input: s = \"egg\", t = \"add\"\n",
    "Output: true"
   ]
  },
  {
   "cell_type": "code",
   "execution_count": 11,
   "id": "5d57d3d5",
   "metadata": {},
   "outputs": [
    {
     "name": "stdout",
     "output_type": "stream",
     "text": [
      "Enter string S: egg\n",
      "Enter string t: add\n",
      "True\n"
     ]
    }
   ],
   "source": [
    "s = input(\"Enter string S: \")\n",
    "t = input(\"Enter string t: \")\n",
    "\n",
    "def check_isomorphic_string(s,t):\n",
    "    if len(s) != len(t):\n",
    "        return False\n",
    "    \n",
    "    s_map, t_map = {}, {}\n",
    "    \n",
    "    for s_char, t_char in zip(s,t):\n",
    "        if s_char not in s_map:\n",
    "            s_map[s_char] = t_char\n",
    "        elif s_map[s_char] != t_char:\n",
    "            return False\n",
    "        if t_char not in t_map:\n",
    "            t_map[t_char] = s_char\n",
    "        elif t_map[t_char] != s_char:\n",
    "            return False\n",
    "    return True \n",
    "\n",
    "output = check_isomorphic_string(s,t)\n",
    "print(f\"{'True' if output else 'False'}\") "
   ]
  },
  {
   "cell_type": "code",
   "execution_count": null,
   "id": "ff81e36f",
   "metadata": {},
   "outputs": [],
   "source": []
  },
  {
   "cell_type": "markdown",
   "id": "a75c0ce5",
   "metadata": {},
   "source": [
    "Question 2\n",
    "\n",
    "Given a string num which represents an integer, return true if num is a strobogrammatic number.\n",
    "A strobogrammatic number is a number that looks the same when rotated 180 degrees (looked at upside down).\n",
    "Example 1:\n",
    "Input: num = \"69\"\n",
    "Output:\n",
    "true"
   ]
  },
  {
   "cell_type": "code",
   "execution_count": 4,
   "id": "a74fc663",
   "metadata": {},
   "outputs": [
    {
     "name": "stdout",
     "output_type": "stream",
     "text": [
      "Enter a no: 69\n",
      "True\n"
     ]
    }
   ],
   "source": [
    "x = input(\"Enter a no: \")\n",
    "\n",
    "def num_is_strobgrammatic(x):\n",
    "    mapping = {'0': '0', '1': '1', '6': '9', '8': '8', '9': '6'}\n",
    "    left, right = 0, len(x) - 1\n",
    "    while left <= right:\n",
    "        if x[left] not in mapping or mapping[x[left]] != x[right]:\n",
    "            return False\n",
    "        left += 1\n",
    "        right -= 1\n",
    "    \n",
    "    return True\n",
    "\n",
    "print(num_is_strobgrammatic(x))"
   ]
  },
  {
   "cell_type": "code",
   "execution_count": null,
   "id": "b79a8164",
   "metadata": {},
   "outputs": [],
   "source": []
  },
  {
   "cell_type": "markdown",
   "id": "d2208fd6",
   "metadata": {},
   "source": [
    "Question 3\n",
    "\n",
    "Given two non-negative integers, num1 and num2 represented as string, return the sum of num1 and num2 as a string.\n",
    "You must solve the problem without using any built-in library for handling large integers (such as BigInteger). You must also not convert the inputs to integers directly.\n",
    "Example 1:\n",
    "Input: num1 = \"11\", num2 = \"123\"\n",
    "Output:\n",
    "\"134\""
   ]
  },
  {
   "cell_type": "code",
   "execution_count": 5,
   "id": "2ff7eb3c",
   "metadata": {},
   "outputs": [
    {
     "name": "stdout",
     "output_type": "stream",
     "text": [
      "Enter the 1st no: 11\n",
      "Enter the 2nd no: 123\n",
      "134\n"
     ]
    }
   ],
   "source": [
    "x =input(\"Enter the 1st no: \")\n",
    "y =input(\"Enter the 2nd no: \")\n",
    "\n",
    "def add_strings(x,y):\n",
    "    n1 = len(x) - 1\n",
    "    n2 = len(y) - 1\n",
    "    carry = 0\n",
    "    result = []\n",
    "    while n1 >= 0 or n2 >= 0:\n",
    "        digit1 = int(x[n1]) if n1 >= 0 else 0\n",
    "        digit2 = int(y[n2]) if n2 >= 0 else 0\n",
    "        current_sum = digit1 + digit2 + carry\n",
    "        carry = current_sum // 10\n",
    "        current_sum %= 10\n",
    "        result.insert(0, str(current_sum))\n",
    "        n1 -= 1\n",
    "        n2 -= 1\n",
    "\n",
    "    if carry > 0:\n",
    "        result.insert(0, str(carry))\n",
    "    return \"\".join(result)\n",
    "\n",
    "print(add_strings(x,y))"
   ]
  },
  {
   "cell_type": "code",
   "execution_count": null,
   "id": "6a13ac19",
   "metadata": {},
   "outputs": [],
   "source": []
  },
  {
   "cell_type": "markdown",
   "id": "2e7c63bf",
   "metadata": {},
   "source": [
    "Question 4\n",
    "\n",
    "Given a string s, reverse the order of characters in each word within a sentence while still preserving whitespace and initial word order.\n",
    "\n",
    "Example 1:\n",
    "    \n",
    "Input: s = \"Let's take LeetCode contest\"\n",
    "\n",
    "Output: \"s'teL ekat edoCteeL tsetnoc\""
   ]
  },
  {
   "cell_type": "code",
   "execution_count": 7,
   "id": "954196c6",
   "metadata": {},
   "outputs": [
    {
     "name": "stdout",
     "output_type": "stream",
     "text": [
      "Enter string: Let's take LeetCode contest\n",
      "s'teL ekat edoCteeL tsetnoc\n"
     ]
    }
   ],
   "source": [
    "x = input(\"Enter string: \")\n",
    "\n",
    "def reverse_string(s):\n",
    "    strings = s.split()\n",
    "    reversed_string = [string[::-1] for string in strings]\n",
    "    reversed_sentence = \" \".join(reversed_string)\n",
    "    return reversed_sentence\n",
    "\n",
    "print(reverse_string(x))\n"
   ]
  },
  {
   "cell_type": "code",
   "execution_count": null,
   "id": "063d98a3",
   "metadata": {},
   "outputs": [],
   "source": []
  },
  {
   "cell_type": "markdown",
   "id": "f0069e51",
   "metadata": {},
   "source": [
    "Question 5\n",
    "\n",
    "Given a string s and an integer k, reverse the first k characters for every 2k characters counting from the start of the string.\n",
    "\n",
    "If there are fewer than k characters left, reverse all of them. If there are less than 2k but greater than or equal to k characters, then reverse the first k characters and leave the other as original.\n",
    "\n",
    "Example 1:\n",
    "\n",
    "Input: s = \"abcdefg\", k = 2\n",
    "\n",
    "Output:\n",
    "\n",
    "\"bacdfeg\"\n"
   ]
  },
  {
   "cell_type": "code",
   "execution_count": 8,
   "id": "e8e8974f",
   "metadata": {},
   "outputs": [
    {
     "name": "stdout",
     "output_type": "stream",
     "text": [
      "Enter string: abcdefg\n",
      "Ennter k: 2\n",
      "bacdfeg\n"
     ]
    }
   ],
   "source": [
    "s = input(\"Enter string: \")\n",
    "k = int(input(\"Ennter k: \"))\n",
    "\n",
    "def reverse_string(s, k):\n",
    "    chars = list(s)\n",
    "    for i in range(0, len(chars), 2*k):\n",
    "        chars[i:i+k] = reversed(chars[i:i+k])\n",
    "    reversed_string = \"\".join(chars)\n",
    "    return reversed_string\n",
    "\n",
    "\n",
    "print(reverse_string(s, k))"
   ]
  },
  {
   "cell_type": "code",
   "execution_count": null,
   "id": "0965c1ea",
   "metadata": {},
   "outputs": [],
   "source": []
  },
  {
   "cell_type": "markdown",
   "id": "0a987d12",
   "metadata": {},
   "source": [
    "Question 6\n",
    "\n",
    "Given two strings s and goal, return true if and only if s can become goal after some number of shifts on s.\n",
    "\n",
    "A shift on s consists of moving the leftmost character of s to the rightmost position.\n",
    "\n",
    "- For example, if s = \"abcde\", then it will be \"bcdea\" after one shift.\n",
    "\n",
    "Example 1:\n",
    "\n",
    "Input: s = \"abcde\", goal = \"cdeab\"\n",
    "\n",
    "Output:\n",
    "\n",
    "true"
   ]
  },
  {
   "cell_type": "code",
   "execution_count": 10,
   "id": "e1d2a268",
   "metadata": {},
   "outputs": [
    {
     "name": "stdout",
     "output_type": "stream",
     "text": [
      "string s: abcde\n",
      "goal: cdeab\n",
      "True\n"
     ]
    }
   ],
   "source": [
    "def rotate_string(s, goal):\n",
    "    s2 = s + s\n",
    "    if goal in s2:\n",
    "        return True\n",
    "    else:\n",
    "        return False\n",
    "\n",
    "s = input(\"string s: \")\n",
    "goal = input(\"goal: \")\n",
    "print(rotate_string(s, goal))\n"
   ]
  },
  {
   "cell_type": "code",
   "execution_count": null,
   "id": "c0c479ca",
   "metadata": {},
   "outputs": [],
   "source": []
  },
  {
   "cell_type": "markdown",
   "id": "0028db92",
   "metadata": {},
   "source": [
    "\n",
    "Question 7\n",
    "\n",
    "Given two strings s and t, return true if they are equal when both are typed into empty text editors. '#' means a backspace character.\n",
    "\n",
    "Note that after backspacing an empty text, the text will continue empty.\n",
    "\n",
    "Example 1:\n",
    "\n",
    "Input: s = \"ab#c\", t = \"ad#c\"\n",
    "\n",
    "Output: true\n",
    "\n",
    "Explanation:\n",
    "\n",
    "Both s and t become \"ac\".\n"
   ]
  },
  {
   "cell_type": "code",
   "execution_count": 11,
   "id": "903ad5c4",
   "metadata": {},
   "outputs": [
    {
     "name": "stdout",
     "output_type": "stream",
     "text": [
      "s: ab#c\n",
      "t: ad#c\n",
      "True\n"
     ]
    }
   ],
   "source": [
    "def backspace_compare(s, t):\n",
    "    def process_string(string):\n",
    "        stack = []\n",
    "        for char in string:\n",
    "            if char != '#':\n",
    "                stack.append(char)\n",
    "            elif stack:\n",
    "                stack.pop()\n",
    "        return ''.join(stack)\n",
    "    \n",
    "    processed_s = process_string(s)\n",
    "    processed_t = process_string(t)\n",
    "    \n",
    "    return processed_s == processed_t\n",
    "\n",
    "s = input(\"s: \")\n",
    "t = input(\"t: \")\n",
    "print(backspace_compare(s, t))\n"
   ]
  },
  {
   "cell_type": "code",
   "execution_count": null,
   "id": "8bd1d2eb",
   "metadata": {},
   "outputs": [],
   "source": []
  },
  {
   "cell_type": "markdown",
   "id": "d524b160",
   "metadata": {},
   "source": [
    "Question 8\n",
    "\n",
    "You are given an array coordinates, coordinates[i] = [x, y], where [x, y] represents the coordinate of a point. Check if these points make a straight line in the XY plane.\n",
    "\n",
    "Example 1:\n",
    "\n",
    "Input: coordinates = [[1,2],[2,3],[3,4],[4,5],[5,6],[6,7]]\n",
    "\n",
    "Output: true"
   ]
  },
  {
   "cell_type": "code",
   "execution_count": 2,
   "id": "5f1e94b7",
   "metadata": {},
   "outputs": [
    {
     "name": "stdout",
     "output_type": "stream",
     "text": [
      "Enter the no coordinates: 6\n",
      "x-coordinate1: 1\n",
      "y-coordinate1: 2\n",
      "x-coordinate2: 2\n",
      "y-coordinate2: 3\n",
      "x-coordinate3: 3\n",
      "y-coordinate3: 4\n",
      "x-coordinate4: 4\n",
      "y-coordinate4: 5\n",
      "x-coordinate5: 5\n",
      "y-coordinate5: 6\n",
      "x-coordinate6: 6\n",
      "y-coordinate6: 7\n",
      "True\n"
     ]
    }
   ],
   "source": [
    "def check_straight_line(coordinates):\n",
    "    def calculate_slope(x1, y1, x2, y2):\n",
    "        if x2 - x1 == 0:\n",
    "            return float('inf')\n",
    "        return (y2 - y1) / (x2 - x1)\n",
    "\n",
    "    x1, y1 = coordinates[0]\n",
    "    x2, y2 = coordinates[1]\n",
    "    expected_slope = calculate_slope(x1, y1, x2, y2)\n",
    "\n",
    "    for i in range(2, len(coordinates)):\n",
    "        x1, y1 = coordinates[i - 1]\n",
    "        x2, y2 = coordinates[i]\n",
    "        current_slope = calculate_slope(x1, y1, x2, y2)\n",
    "\n",
    "        if current_slope != expected_slope:\n",
    "            return False\n",
    "\n",
    "    return True\n",
    "\n",
    "coordinates = []\n",
    "n = int(input(\"Enter the no coordinates: \"))\n",
    "for i in range(n):\n",
    "    x = int(input(f\"x-coordinate{i + 1}: \"))\n",
    "    y = int(input(f\"y-coordinate{i + 1}: \"))\n",
    "    coordinates.append([x, y])\n",
    "\n",
    "print(check_straight_line(coordinates))\n"
   ]
  },
  {
   "cell_type": "code",
   "execution_count": null,
   "id": "d87a2a87",
   "metadata": {},
   "outputs": [],
   "source": []
  }
 ],
 "metadata": {
  "kernelspec": {
   "display_name": "Python 3 (ipykernel)",
   "language": "python",
   "name": "python3"
  },
  "language_info": {
   "codemirror_mode": {
    "name": "ipython",
    "version": 3
   },
   "file_extension": ".py",
   "mimetype": "text/x-python",
   "name": "python",
   "nbconvert_exporter": "python",
   "pygments_lexer": "ipython3",
   "version": "3.9.7"
  }
 },
 "nbformat": 4,
 "nbformat_minor": 5
}
