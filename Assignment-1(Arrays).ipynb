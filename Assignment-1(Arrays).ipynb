{
 "cells": [
  {
   "cell_type": "markdown",
   "id": "f6fd472b",
   "metadata": {},
   "source": [
    "\n",
    "Q1. Given an array of integers nums and an integer target, return indices of the two numbers such that they add up to target.\n",
    "You may assume that each input would have exactly one solution, and you may not use the same element twice.\n",
    "You can return the answer in any order.\n",
    "\n",
    "Example:\n",
    "Input: nums = [2,7,11,15], target = 9\n",
    "Output0 [0,1]\n",
    "\n",
    "Explanation: Because nums[0] + nums[1] == 9, we return [0, 1][\n",
    "    "
   ]
  },
  {
   "cell_type": "code",
   "execution_count": 12,
   "id": "c6d7b5b3",
   "metadata": {},
   "outputs": [
    {
     "name": "stdout",
     "output_type": "stream",
     "text": [
      "Enter Array integer2 7 11 15\n",
      "Enter Target9\n",
      "Output [0, 1]\n"
     ]
    }
   ],
   "source": [
    "def two_sum(nums, target):\n",
    "    num_indices= {}\n",
    "    \n",
    "    for i, num in enumerate(nums):\n",
    "        difference = target - num\n",
    "        if difference in num_indices:\n",
    "            return [num_indices[difference],i]\n",
    "        else:\n",
    "            num_indices[num] = i\n",
    "            \n",
    "    return []\n",
    "\n",
    "nums = input(\"Enter Array integer\").split()\n",
    "nums = [int(num) for num in nums]\n",
    "target = int(input(\"Enter Target\"))\n",
    "\n",
    "result = two_sum(nums, target)\n",
    "print(\"Output\",result)"
   ]
  },
  {
   "cell_type": "markdown",
   "id": "33d8bfe9",
   "metadata": {},
   "source": [
    "Q2. Given an integer array nums and an integer val, remove all occurrences of val in nums in-place. The order of the elements may be changed. Then return the number of elements in nums which are not equal to val.\n",
    "\n",
    "Consider the number of elements in nums which are not equal to val be k, to get accepted, you need to do the following things:\n",
    "\n",
    "- Change the array nums such that the first k elements of nums contain the elements which are not equal to val. The remaining elements of nums are not important as well as the size of nums.\n",
    "- Return k.\n",
    "\n",
    "Example :\n",
    "Input: nums = [3,2,2,3], val = 3\n",
    "Output: 2, nums = [2,2,_,_]\n",
    "\n",
    "Explanation: Your function should return k = 2, with the first two elements of nums being 2. It does not matter what you leave beyond the returned k (hence they are underscores)[\n",
    "\n"
   ]
  },
  {
   "cell_type": "code",
   "execution_count": 16,
   "id": "6586590e",
   "metadata": {},
   "outputs": [
    {
     "name": "stdout",
     "output_type": "stream",
     "text": [
      "Enter Array3 2 2 3\n",
      "Enter which of the value you want to remove2\n",
      "k: 2\n",
      "nums [3, 3, '_', '_']\n"
     ]
    }
   ],
   "source": [
    "def removeElement(nums, value):\n",
    "    i = 0\n",
    "    for j in range(len(nums)):\n",
    "        if nums[j] != value:\n",
    "            nums[i] = nums[j]\n",
    "            i += 1\n",
    "    return i\n",
    "\n",
    "nums = input(\"Enter Array\").split()\n",
    "nums = [int(num) for num in nums]\n",
    "value = int(input(\"Enter which of the value you want to remove\"))\n",
    "\n",
    "X = removeElement(nums, value)\n",
    "\n",
    "print(\"k:\",X)\n",
    "print(\"nums\",nums[:X] + [\"_\"]*(len(nums)-X))"
   ]
  },
  {
   "cell_type": "markdown",
   "id": "d4b7017b",
   "metadata": {},
   "source": [
    "Q3.Given a sorted array of distinct integers and a target value, return the index if the target is found. If not, return the index where it would be if it were inserted in order.\n",
    "\n",
    "You must write an algorithm with O(log n) runtime complexity.\n",
    "\n",
    "Example 1:\n",
    "Input: nums = [1,3,5,6], target = 5\n",
    "\n",
    "Output: 2\n"
   ]
  },
  {
   "cell_type": "code",
   "execution_count": 19,
   "id": "01a39612",
   "metadata": {},
   "outputs": [
    {
     "name": "stdout",
     "output_type": "stream",
     "text": [
      "input array: 1 3 5 6\n",
      "input target: 5\n",
      "2\n"
     ]
    }
   ],
   "source": [
    "def search_insert(num, target):\n",
    "    left = 0\n",
    "    right = len(num)-1\n",
    "    \n",
    "    while left <= right:\n",
    "        mid = (left + right)//2\n",
    "        if num[mid] == target:\n",
    "            return mid\n",
    "        elif num[mid] < target:\n",
    "            left = mid + 1\n",
    "        else:\n",
    "            right = mid - 1\n",
    "            \n",
    "        return left\n",
    "    \n",
    "num = input(\"input array: \").split()\n",
    "target = input(\"input target: \")\n",
    "index = search_insert(num, target)\n",
    "print(index)"
   ]
  },
  {
   "cell_type": "markdown",
   "id": "3b9575e0",
   "metadata": {},
   "source": [
    "Q4.You are given a large integer represented as an integer array digits, where each digits[i] is the ith digit of the integer. The digits are ordered from most significant to least significant in left-to-right order. The large integer does not contain any leading 0's.\n",
    "\n",
    "Increment the large integer by one and return the resulting array of digits.\n",
    "\n",
    "Example 1:\n",
    "Input: digits = [1,2,3]\n",
    "Output: [1,2,4]\n",
    "\n",
    "Explanation: The array represents the integer 123.\n",
    "\n",
    "Incrementing by one gives 123 + 1 = 124.\n",
    "Thus, the result should be [1,2,4]."
   ]
  },
  {
   "cell_type": "code",
   "execution_count": 24,
   "id": "850375be",
   "metadata": {},
   "outputs": [
    {
     "name": "stdout",
     "output_type": "stream",
     "text": [
      "Enter Array: 1 2 3\n",
      "[1, 2, 4]\n"
     ]
    }
   ],
   "source": [
    "def plusOne(digits):\n",
    "    num = int(\"\".join(map(str, digits)))  \n",
    "    num += 1 \n",
    "    result = [int(digit) for digits in str(num)]\n",
    "    return result\n",
    "\n",
    "digits = input(\"Enter Array: \").split()\n",
    "digits = [int(digit) for digit in digits]\n",
    "result = plus_one(digits)\n",
    "print(result)"
   ]
  },
  {
   "cell_type": "markdown",
   "id": "3f781802",
   "metadata": {},
   "source": [
    "Q5.You are given two integer arrays nums1 and nums2, sorted in non-decreasing order, and two integers m and n, representing the number of elements in nums1 and nums2 respectively.\n",
    "\n",
    "Merge nums1 and nums2 into a single array sorted in non-decreasing order.\n",
    "\n",
    "The final sorted array should not be returned by the function, but instead be stored inside the array nums1. To accommodate this, nums1 has a length of m + n, where the first m elements denote the elements that should be merged, and the last n elements are set to 0 and should be ignored. nums2 has a length of n.\n",
    "\n",
    "Example 1:\n",
    "Input: nums1 = [1,2,3,0,0,0], m = 3, nums2 = [2,5,6], n = 3\n",
    "Output: [1,2,2,3,5,6]\n",
    "\n",
    "Explanation: The arrays we are merging are [1,2,3] and [2,5,6].\n",
    "The result of the merge is [1,2,2,3,5,6] with the underlined elements coming from nums1.\n",
    "\n",
    "\n",
    "\n"
   ]
  },
  {
   "cell_type": "code",
   "execution_count": 1,
   "id": "2d3eed08",
   "metadata": {},
   "outputs": [
    {
     "name": "stdout",
     "output_type": "stream",
     "text": [
      "Enter nums1 1 2 3 0 0 0\n",
      "Enter the m: 3\n",
      "Enter nums2 2 5 6\n",
      "Enter the n: 3\n",
      "so merged aarray [1, 2, 1, 1, 5, 6, 0, 0, 0]\n"
     ]
    }
   ],
   "source": [
    "def merge(nums1, m, nums2, n):\n",
    "    p1 = m-1\n",
    "    p2 = n-1\n",
    "    p = m+n-1\n",
    "    while p1 >=0 and p2 >= 0:\n",
    "        if nums1[p1] >= nums2[p2]:\n",
    "            nums1[p] = nums1[p2]\n",
    "            p1 -= 1\n",
    "        else:\n",
    "            nums1[p] = nums2[p2]\n",
    "            p2 -= 1\n",
    "        p -= 1\n",
    "        \n",
    "    nums1[:p2 + 1] = nums2[:p2 + 1]\n",
    "    \n",
    "nums1 = input(\"Enter nums1 \").split()\n",
    "nums1 = [int(num) for num in nums1]\n",
    "m = int(input(\"Enter the m: \"))\n",
    "\n",
    "nums2 = input(\"Enter nums2 \").split()\n",
    "nums2 = [int(num) for num in nums2]\n",
    "n = int(input(\"Enter the n: \"))\n",
    "\n",
    "nums1.extend([0] * n)\n",
    "\n",
    "merge(nums1, m, nums2, n)\n",
    "\n",
    "print(\"so merged aarray\", nums1)"
   ]
  },
  {
   "cell_type": "markdown",
   "id": "90c06dc7",
   "metadata": {},
   "source": [
    " Q6. Given an integer array nums, return true if any value appears at least twice in the array, and return false if every element is distinct.\n",
    "\n",
    "Example 1:\n",
    "Input: nums = [1,2,3,1]\n",
    "\n",
    "Output: true\n"
   ]
  },
  {
   "cell_type": "code",
   "execution_count": 3,
   "id": "a9b63ac2",
   "metadata": {},
   "outputs": [
    {
     "name": "stdout",
     "output_type": "stream",
     "text": [
      "Enter arr: 1 2 3\n",
      "Contains_duplicates: False\n"
     ]
    }
   ],
   "source": [
    "def contains_duplicate(nums):\n",
    "    unique_nums = set()\n",
    "\n",
    "    for num in nums:\n",
    "        if num in unique_nums:\n",
    "            return True\n",
    "        unique_nums.add(num)\n",
    "\n",
    "    return False\n",
    "nums = input(\"Enter arr: \").split()\n",
    "nums = [int(num) for num in nums]\n",
    "\n",
    "\n",
    "result = contains_duplicate(nums)\n",
    "\n",
    "print(\"Contains_duplicates:\", result)\n"
   ]
  },
  {
   "cell_type": "markdown",
   "id": "6fa47915",
   "metadata": {},
   "source": [
    "Q7. Given an integer array nums, move all 0's to the end of it while maintaining the relative order of the nonzero elements.\n",
    "\n",
    "Note that you must do this in-place without making a copy of the array.\n",
    "\n",
    "Example 1:\n",
    "Input: nums = [0,1,0,3,12]\n",
    "Output: [1,3,12,0,0]\n",
    "\n"
   ]
  },
  {
   "cell_type": "code",
   "execution_count": 4,
   "id": "3776172e",
   "metadata": {},
   "outputs": [
    {
     "name": "stdout",
     "output_type": "stream",
     "text": [
      "Enter element: 0 1 0 3 12\n",
      "new arr:  [1, 3, 12, 0, 0]\n"
     ]
    }
   ],
   "source": [
    "def move_all_zeroes(nums):\n",
    "    left = 0\n",
    "    right = 0\n",
    "\n",
    "    while left < len(nums):\n",
    "        if nums[left] != 0:\n",
    "            nums[left], nums[right] = nums[right], nums[left]\n",
    "            right += 1\n",
    "        left += 1\n",
    "\n",
    "    nums[right:] = [0] * (len(nums) - right)\n",
    "nums = input(\"Enter element: \").split()\n",
    "nums = [int(num) for num in nums]\n",
    "move_all_zeroes(nums)\n",
    "print(\"new arr: \", nums)   \n",
    "    "
   ]
  },
  {
   "cell_type": "markdown",
   "id": "dbcccefd",
   "metadata": {},
   "source": [
    "Q8.You have a set of integers s, which originally contains all the numbers from 1 to n. Unfortunately, due to some error, one of the numbers in s got duplicated to another number in the set, which results in repetition of one number and loss of another number.\n",
    "\n",
    "You are given an integer array nums representing the data status of this set after the error.\n",
    "\n",
    "Find the number that occurs twice and the number that is missing and return them in the form of an array.\n",
    "\n",
    "Example 1:\n",
    "Input: nums = [1,2,2,4]\n",
    "Output: [2,3]"
   ]
  },
  {
   "cell_type": "code",
   "execution_count": 5,
   "id": "23ba3edd",
   "metadata": {},
   "outputs": [
    {
     "name": "stdout",
     "output_type": "stream",
     "text": [
      "Enter elements: 1 2 2 4\n",
      "result: [2, 3]\n"
     ]
    }
   ],
   "source": [
    "def find_error_nums(nums):\n",
    "    seen = set()\n",
    "    duplicate = -1\n",
    "    missing = -1\n",
    "\n",
    "    for num in nums:\n",
    "        if num in seen:\n",
    "            duplicate = num\n",
    "        seen.add(num)\n",
    "\n",
    "    for i in range(1, len(nums) + 1):\n",
    "        if i not in seen:\n",
    "            missing = i\n",
    "\n",
    "    return [duplicate, missing]\n",
    "\n",
    "nums = input(\"Enter elements: \").split()\n",
    "nums = [int(num) for num in nums]\n",
    "\n",
    "# Find the number that occurs twice and the number that is missing\n",
    "result = find_error_nums(nums)\n",
    "\n",
    "# Display the result\n",
    "print(\"result:\", result)"
   ]
  },
  {
   "cell_type": "code",
   "execution_count": null,
   "id": "ce8b6ade",
   "metadata": {},
   "outputs": [],
   "source": []
  }
 ],
 "metadata": {
  "kernelspec": {
   "display_name": "Python 3 (ipykernel)",
   "language": "python",
   "name": "python3"
  },
  "language_info": {
   "codemirror_mode": {
    "name": "ipython",
    "version": 3
   },
   "file_extension": ".py",
   "mimetype": "text/x-python",
   "name": "python",
   "nbconvert_exporter": "python",
   "pygments_lexer": "ipython3",
   "version": "3.9.7"
  }
 },
 "nbformat": 4,
 "nbformat_minor": 5
}
